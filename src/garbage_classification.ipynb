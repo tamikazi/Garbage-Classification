{
 "cells": [
  {
   "cell_type": "markdown",
   "metadata": {},
   "source": [
    "# Garbage Classification"
   ]
  },
  {
   "cell_type": "code",
   "execution_count": 1,
   "metadata": {},
   "outputs": [
    {
     "name": "stdout",
     "output_type": "stream",
     "text": [
      "cuda\n"
     ]
    }
   ],
   "source": [
    "import os\n",
    "import wandb\n",
    "import numpy as np\n",
    "import pandas as pd\n",
    "import matplotlib.pyplot as plt\n",
    "from PIL import Image\n",
    "\n",
    "import torch\n",
    "import torch.nn as nn\n",
    "import torch.nn.functional as F\n",
    "from torch.utils.data import Dataset\n",
    "from torch.utils.data import DataLoader\n",
    "import torch.optim as optim\n",
    "\n",
    "import torchvision\n",
    "from torchvision import transforms, datasets, models\n",
    "\n",
    "from torchvision.models import resnet34\n",
    "\n",
    "from transformers import BertTokenizer\n",
    "from transformers import BertModel\n",
    "\n",
    "from sklearn.utils.class_weight import compute_class_weight\n",
    "\n",
    "device = \"cuda\" if torch.cuda.is_available() else \"cpu\"\n",
    "print(device)"
   ]
  },
  {
   "cell_type": "markdown",
   "metadata": {},
   "source": [
    "### Define Data Directories"
   ]
  },
  {
   "cell_type": "code",
   "execution_count": 2,
   "metadata": {},
   "outputs": [],
   "source": [
    "trainset_dir = 'data/enel645_2024f/garbage_data/CVPR_2024_dataset_Train'\n",
    "valset_dir = 'data/enel645_2024f/garbage_data/CVPR_2024_dataset_Val'\n",
    "testset_dir = 'data/enel645_2024f/garbage_data/CVPR_2024_dataset_Test'\n",
    "\n",
    "\n",
    "#trainset_dir = 'C:/Users/Shaakira Gadiwan/Documents/enel645/Garbage-Classification/data/garbage_data/CVPR_2024_dataset_Train'\n",
    "#valset_dir = 'C:/Users/Shaakira Gadiwan/Documents/enel645/Garbage-Classification/data/garbage_data/CVPR_2024_dataset_Val'\n",
    "#testset_dir = 'C:/Users/Shaakira Gadiwan/Documents/enel645/Garbage-Classification/data/garbage_data/CVPR_2024_dataset_Test'"
   ]
  },
  {
   "cell_type": "markdown",
   "metadata": {},
   "source": [
    "### Define Garbage Dataset Class"
   ]
  },
  {
   "cell_type": "code",
   "execution_count": 3,
   "metadata": {},
   "outputs": [],
   "source": [
    "class GarbageDataset(Dataset):\n",
    "    def __init__(self, dataframe, image_transform=None, max_len=32, class_to_idx=None):\n",
    "        self.dataframe = dataframe\n",
    "        self.image_transform = image_transform\n",
    "        self.tokenizer = BertTokenizer.from_pretrained('bert-base-uncased')\n",
    "        self.max_len = max_len\n",
    "        self.class_to_idx = class_to_idx  # Pass the class mapping\n",
    "\n",
    "    def __len__(self):\n",
    "        return len(self.dataframe)\n",
    "\n",
    "    def __getitem__(self, idx):\n",
    "        # Get image path, text description, and label from the dataframe\n",
    "        img_path = self.dataframe.iloc[idx]['image_path']\n",
    "        text_desc = self.dataframe.iloc[idx]['text_description']\n",
    "        label = self.dataframe.iloc[idx]['label']  \n",
    "\n",
    "        # Load and preprocess the image\n",
    "        image = Image.open(img_path).convert(\"RGB\")\n",
    "        if self.image_transform:\n",
    "            image = self.image_transform(image)\n",
    "\n",
    "        # Tokenize the text description\n",
    "        text_inputs = self.tokenizer(\n",
    "            text_desc, \n",
    "            padding='max_length', \n",
    "            truncation=True, \n",
    "            max_length=self.max_len, \n",
    "            return_tensors=\"pt\"\n",
    "        )\n",
    "\n",
    "        # Convert string label to numeric label using the class mapping\n",
    "        numeric_label = self.class_to_idx[label]\n",
    "\n",
    "        # Return the image, text input, and numeric label\n",
    "        return {\n",
    "            'image': image,\n",
    "            'input_ids': text_inputs['input_ids'].squeeze(0),  \n",
    "            'attention_mask': text_inputs['attention_mask'].squeeze(0),  \n",
    "            'label': torch.tensor(numeric_label, dtype=torch.long)  \n",
    "        }"
   ]
  },
  {
   "cell_type": "markdown",
   "metadata": {},
   "source": [
    "### Define Methods"
   ]
  },
  {
   "cell_type": "code",
   "execution_count": 4,
   "metadata": {},
   "outputs": [],
   "source": [
    "# Extract images, labels, and text descriptions from a given folder\n",
    "def extract_data_from_folders(base_dir):\n",
    "    data = []\n",
    "\n",
    "    # Traverse through each subfolder\n",
    "    for label_folder in os.listdir(base_dir):\n",
    "        folder_path = os.path.join(base_dir, label_folder)\n",
    "\n",
    "        # Check if it's a directory\n",
    "        if os.path.isdir(folder_path):\n",
    "            # Loop through each image file in the subfolder\n",
    "            for filename in os.listdir(folder_path):\n",
    "                if filename.endswith(('.jpg', '.png', '.jpeg')):  # Filter image files\n",
    "                    image_path = os.path.join(folder_path, filename)\n",
    "\n",
    "                    # Extract text from filename (remove file extension)\n",
    "                    text_description = os.path.splitext(filename)[0]\n",
    "\n",
    "                    # Append image path, text, and label to the data list\n",
    "                    data.append({\n",
    "                        'image_path': image_path,\n",
    "                        'text_description': text_description,\n",
    "                        'label': label_folder  # The subfolder name represents the label (bin)\n",
    "                    })\n",
    "\n",
    "    # Convert to DataFrame for easy manipulation\n",
    "    return pd.DataFrame(data)"
   ]
  },
  {
   "cell_type": "markdown",
   "metadata": {},
   "source": [
    "### Custom activation"
   ]
  },
  {
   "cell_type": "code",
   "execution_count": 5,
   "metadata": {},
   "outputs": [],
   "source": [
    "# Define custom activation function (Modified Swish)\n",
    "class CustomActivation(nn.Module):\n",
    "    def forward(self, x):\n",
    "        return x * torch.sigmoid(torch.log(1 + torch.abs(x)))"
   ]
  },
  {
   "cell_type": "code",
   "execution_count": 6,
   "metadata": {},
   "outputs": [],
   "source": [
    "# Define the modified ResNet-34\n",
    "class ModifiedResNet34(nn.Module):\n",
    "    def __init__(self):\n",
    "        super(ModifiedResNet34, self).__init__()\n",
    "        self.base_model = models.resnet34(pretrained=True)\n",
    "        self.base_model.fc = nn.Identity()  # Remove the final classification layer\n",
    "        self.activation = CustomActivation()\n",
    "\n",
    "    def forward(self, x):\n",
    "        x = self.base_model.conv1(x)\n",
    "        x = self.base_model.bn1(x)\n",
    "        x = self.activation(x)\n",
    "        x = self.base_model.layer1(x)\n",
    "        x = self.base_model.layer2(x)\n",
    "        x = self.base_model.layer3(x)\n",
    "        x = self.base_model.layer4(x)\n",
    "        x = self.base_model.avgpool(x)\n",
    "        x = torch.flatten(x, 1)  # Resulting in a [batch_size, 512] tensor\n",
    "        return x"
   ]
  },
  {
   "cell_type": "markdown",
   "metadata": {},
   "source": [
    "### Define Multi Modal Classifier"
   ]
  },
  {
   "cell_type": "code",
   "execution_count": 11,
   "metadata": {},
   "outputs": [],
   "source": [
    "# class CombinedClassifier(nn.Module):\n",
    "#     def __init__(self, image_model, text_model, combined_feature_size, num_classes):\n",
    "#         super(CombinedClassifier, self).__init__()\n",
    "#         self.image_model = image_model  # Pre-trained ResNet model\n",
    "#         self.text_model = text_model    # Pre-trained BERT model\n",
    "#         self.fc = nn.Linear(combined_feature_size, num_classes)  # Final classifier\n",
    "\n",
    "#     def forward(self, image, text_input_ids, text_attention_mask):\n",
    "#         # Get image features from the ResNet model\n",
    "#         image_features = self.image_model(image)\n",
    "        \n",
    "#         # Get text features from the BERT model\n",
    "#         text_features = self.text_model(input_ids=text_input_ids, attention_mask=text_attention_mask).pooler_output\n",
    "        \n",
    "#         # Combine image and text features\n",
    "#         combined_features = torch.cat((image_features, text_features), dim=1)\n",
    "        \n",
    "#         # Pass combined features through the classifier\n",
    "#         output = self.fc(combined_features)\n",
    "#         return output"
   ]
  },
  {
   "cell_type": "code",
   "execution_count": 7,
   "metadata": {},
   "outputs": [],
   "source": [
    "class GarbageClassifier(nn.Module):\n",
    "    def __init__(self, num_classes=4):\n",
    "        super(GarbageClassifier, self).__init__()\n",
    "        # Image feature extraction with ResNet\n",
    "        self.resnet = ModifiedResNet34()\n",
    "        # Text feature extraction with BERT\n",
    "        self.bert = BertModel.from_pretrained('bert-base-uncased')\n",
    "        # Classification layer after combining image and text features\n",
    "        self.fc_combined = nn.Linear(512 + 768, num_classes)\n",
    "        # Separate classification layers for image and text outputs\n",
    "        self.fc_image = nn.Linear(512, num_classes)\n",
    "        self.fc_text = nn.Linear(768, num_classes)\n",
    "\n",
    "    def forward(self, image, input_ids, attention_mask):\n",
    "        # Get image features from ResNet\n",
    "        image_features = self.resnet(image)\n",
    "        # Get text features from BERT\n",
    "        bert_output = self.bert(input_ids=input_ids, attention_mask=attention_mask)\n",
    "        text_features = bert_output.pooler_output  # (batch_size, 768)\n",
    "\n",
    "        # Separate predictions for image and text\n",
    "        image_output = self.fc_image(image_features)  # Classification based on image alone\n",
    "        text_output = self.fc_text(text_features)  # Classification based on text alone\n",
    "\n",
    "        # Combined features from both image and text\n",
    "        combined_features = torch.cat((image_features, text_features), dim=1)\n",
    "        combined_output = self.fc_combined(combined_features)\n",
    "\n",
    "        return image_output, text_output, combined_output"
   ]
  },
  {
   "cell_type": "code",
   "execution_count": 8,
   "metadata": {},
   "outputs": [
    {
     "name": "stderr",
     "output_type": "stream",
     "text": [
      "wandb: Using wandb-core as the SDK backend. Please refer to https://wandb.me/wandb-core for more information.\n",
      "wandb: Currently logged in as: tahmidkazi829 (tahmidkazi829-university-of-calgary-in-alberta). Use `wandb login --relogin` to force relogin\n"
     ]
    },
    {
     "data": {
      "text/html": [
       "Tracking run with wandb version 0.18.3"
      ],
      "text/plain": [
       "<IPython.core.display.HTML object>"
      ]
     },
     "metadata": {},
     "output_type": "display_data"
    },
    {
     "data": {
      "text/html": [
       "Run data is saved locally in <code>c:\\Users\\tahmi\\Documents\\MENG2023\\ENEL645\\Garbage-Classification\\src\\wandb\\run-20241016_173017-4c5tibvf</code>"
      ],
      "text/plain": [
       "<IPython.core.display.HTML object>"
      ]
     },
     "metadata": {},
     "output_type": "display_data"
    },
    {
     "data": {
      "text/html": [
       "Syncing run <strong><a href='https://wandb.ai/tahmidkazi829-university-of-calgary-in-alberta/garbage-collection/runs/4c5tibvf' target=\"_blank\">worthy-star-10</a></strong> to <a href='https://wandb.ai/tahmidkazi829-university-of-calgary-in-alberta/garbage-collection' target=\"_blank\">Weights & Biases</a> (<a href='https://wandb.me/run' target=\"_blank\">docs</a>)<br/>"
      ],
      "text/plain": [
       "<IPython.core.display.HTML object>"
      ]
     },
     "metadata": {},
     "output_type": "display_data"
    },
    {
     "data": {
      "text/html": [
       " View project at <a href='https://wandb.ai/tahmidkazi829-university-of-calgary-in-alberta/garbage-collection' target=\"_blank\">https://wandb.ai/tahmidkazi829-university-of-calgary-in-alberta/garbage-collection</a>"
      ],
      "text/plain": [
       "<IPython.core.display.HTML object>"
      ]
     },
     "metadata": {},
     "output_type": "display_data"
    },
    {
     "data": {
      "text/html": [
       " View run at <a href='https://wandb.ai/tahmidkazi829-university-of-calgary-in-alberta/garbage-collection/runs/4c5tibvf' target=\"_blank\">https://wandb.ai/tahmidkazi829-university-of-calgary-in-alberta/garbage-collection/runs/4c5tibvf</a>"
      ],
      "text/plain": [
       "<IPython.core.display.HTML object>"
      ]
     },
     "metadata": {},
     "output_type": "display_data"
    }
   ],
   "source": [
    "run = wandb.init(project='garbage-collection')"
   ]
  },
  {
   "cell_type": "code",
   "execution_count": 9,
   "metadata": {},
   "outputs": [],
   "source": [
    "# Define classes and map them to indices\n",
    "class_names = ['Green', 'Blue', 'Black', 'TTR']  \n",
    "class_to_idx = {class_name: idx for idx, class_name in enumerate(class_names)}\n",
    "idx_to_class = {idx: class_name for idx, class_name in enumerate(class_names)}"
   ]
  },
  {
   "cell_type": "code",
   "execution_count": 10,
   "metadata": {},
   "outputs": [
    {
     "name": "stdout",
     "output_type": "stream",
     "text": [
      "                                          image_path  \\\n",
      "0  data/enel645_2024f/garbage_data/CVPR_2024_data...   \n",
      "1  data/enel645_2024f/garbage_data/CVPR_2024_data...   \n",
      "2  data/enel645_2024f/garbage_data/CVPR_2024_data...   \n",
      "3  data/enel645_2024f/garbage_data/CVPR_2024_data...   \n",
      "4  data/enel645_2024f/garbage_data/CVPR_2024_data...   \n",
      "\n",
      "                 text_description  label  \n",
      "0  acne_treatment_ointment_tube_0  Black  \n",
      "1              Aero_bar_wrapper_1  Black  \n",
      "2       air_freshener_container_2  Black  \n",
      "3                  almonds_sack_4  Black  \n",
      "4            aloe_vera_gel_tube_5  Black  \n",
      "                                          image_path        text_description  \\\n",
      "0  data/enel645_2024f/garbage_data/CVPR_2024_data...  air_freshener_refill_3   \n",
      "1  data/enel645_2024f/garbage_data/CVPR_2024_data...             apple pouch   \n",
      "2  data/enel645_2024f/garbage_data/CVPR_2024_data...       a_bag_of_chips_22   \n",
      "3  data/enel645_2024f/garbage_data/CVPR_2024_data...          babybel_wax_30   \n",
      "4  data/enel645_2024f/garbage_data/CVPR_2024_data...          babybel_wax_31   \n",
      "\n",
      "   label  \n",
      "0  Black  \n",
      "1  Black  \n",
      "2  Black  \n",
      "3  Black  \n",
      "4  Black  \n",
      "                                          image_path  \\\n",
      "0  data/enel645_2024f/garbage_data/CVPR_2024_data...   \n",
      "1  data/enel645_2024f/garbage_data/CVPR_2024_data...   \n",
      "2  data/enel645_2024f/garbage_data/CVPR_2024_data...   \n",
      "3  data/enel645_2024f/garbage_data/CVPR_2024_data...   \n",
      "4  data/enel645_2024f/garbage_data/CVPR_2024_data...   \n",
      "\n",
      "                    text_description  label  \n",
      "0                  Air_Freshener_915  Black  \n",
      "1  aluminum_and_plastic_chip_bag_105  Black  \n",
      "2            aluminum_bottle_cap_106  Black  \n",
      "3                     bacon_bag_1080  Black  \n",
      "4                     badge_pin_1556  Black  \n"
     ]
    }
   ],
   "source": [
    "# Extract the data\n",
    "trainset_df = extract_data_from_folders(trainset_dir)\n",
    "valset_df = extract_data_from_folders(valset_dir)\n",
    "testset_df = extract_data_from_folders(testset_dir)\n",
    "\n",
    "# Print the first few rows of the DataFrames\n",
    "print(trainset_df.head())\n",
    "print(valset_df.head())\n",
    "print(testset_df.head())"
   ]
  },
  {
   "cell_type": "markdown",
   "metadata": {},
   "source": [
    "### Data Visualization"
   ]
  },
  {
   "cell_type": "code",
   "execution_count": 12,
   "metadata": {},
   "outputs": [
    {
     "data": {
      "image/png": "[encoded data removed]",
      "text/plain": [
       "<Figure size 640x480 with 1 Axes>"
      ]
     },
     "metadata": {},
     "output_type": "display_data"
    }
   ],
   "source": [
    "class_counts = trainset_df['label'].value_counts() \n",
    "class_counts.plot(kind='bar')\n",
    "plt.title('Class Distribution')\n",
    "plt.xlabel('Class')\n",
    "plt.ylabel('Number of Images')\n",
    "plt.show()"
   ]
  },
  {
   "cell_type": "code",
   "execution_count": 13,
   "metadata": {},
   "outputs": [
    {
     "name": "stdout",
     "output_type": "stream",
     "text": [
      "torch.Size([3, 224, 224])\n",
      "torch.Size([32])\n",
      "tensor(2)\n"
     ]
    }
   ],
   "source": [
    "# Image transformations\n",
    "transform = transforms.Compose([\n",
    "    transforms.Resize((224, 224)),\n",
    "    transforms.RandomHorizontalFlip(),\n",
    "    transforms.RandomRotation(10),\n",
    "    transforms.ToTensor(),\n",
    "    transforms.Normalize(mean=[0.485, 0.456, 0.406],\n",
    "                         std=[0.229, 0.224, 0.225])\n",
    "])\n",
    "\n",
    "trainset = GarbageDataset(trainset_df, image_transform=transform, class_to_idx=class_to_idx)\n",
    "valset = GarbageDataset(valset_df, image_transform=transform, class_to_idx=class_to_idx)\n",
    "testset = GarbageDataset(testset_df, image_transform=transform, class_to_idx=class_to_idx)\n",
    "\n",
    "# Example: Access a sample from the training dataset\n",
    "sample = trainset[0]\n",
    "print(sample['image'].shape)  # (3, 224, 224)\n",
    "print(sample['input_ids'].shape)  # (32,) - max_len of 32 tokens\n",
    "print(sample['label'])  # The label as a tensor\n",
    "\n"
   ]
  },
  {
   "cell_type": "code",
   "execution_count": 14,
   "metadata": {},
   "outputs": [],
   "source": [
    "batch_size = 32\n",
    "\n",
    "trainloader = DataLoader(trainset, batch_size=batch_size, shuffle=True, num_workers=6)\n",
    "valloader = DataLoader(valset, batch_size=batch_size, shuffle=True, num_workers=6)\n",
    "testloader = DataLoader(testset, batch_size=batch_size, shuffle=True, num_workers=6)"
   ]
  },
  {
   "cell_type": "code",
   "execution_count": 15,
   "metadata": {},
   "outputs": [],
   "source": [
    "# # Load a pre-trained models for image and text feature extraction\n",
    "# image_model = models.resnet18(pretrained=True)\n",
    "# text_model = BertModel.from_pretrained('bert-base-uncased')\n",
    "\n",
    "# # Freeze the feature-extracting layers if desired\n",
    "# for name, param in image_model.named_parameters():\n",
    "#     if 'layer4' in name or 'fc' in name:  # Unfreeze layer4 and the final fully connected layer, layer 4 is the last convolutional block and should be fine tuned...\n",
    "#         param.requires_grad = True\n",
    "#     else:\n",
    "#         param.requires_grad = False  # Freeze all other layers\n",
    "\n",
    "# for param in text_model.parameters():\n",
    "#     param.requires_grad = True # not sure which layers to freeze\n",
    "\n",
    "# # Replace the final fully connected layer to match the number of required outputs for our problem\n",
    "# num_image_features = image_model.fc.in_features\n",
    "# image_model.fc = nn.Linear(num_image_features, len(class_names))\n",
    "\n",
    "# # Create the combined image and text model\n",
    "# combined_feature_size = num_image_features + 768  # 768 is the BERT hidden size\n",
    "# combined_model = CombinedClassifier(image_model, text_model, combined_feature_size, len(class_names)).to(device)\n",
    "\n",
    "# image_model = image_model.to(device)\n",
    "# print(image_model)"
   ]
  },
  {
   "cell_type": "code",
   "execution_count": 16,
   "metadata": {},
   "outputs": [
    {
     "name": "stderr",
     "output_type": "stream",
     "text": [
      "c:\\Users\\tahmi\\anaconda3\\envs\\enel-645\\lib\\site-packages\\torchvision\\models\\_utils.py:208: UserWarning: The parameter 'pretrained' is deprecated since 0.13 and may be removed in the future, please use 'weights' instead.\n",
      "  warnings.warn(\n",
      "c:\\Users\\tahmi\\anaconda3\\envs\\enel-645\\lib\\site-packages\\torchvision\\models\\_utils.py:223: UserWarning: Arguments other than a weight enum or `None` for 'weights' are deprecated since 0.13 and may be removed in the future. The current behavior is equivalent to passing `weights=ResNet34_Weights.IMAGENET1K_V1`. You can also use `weights=ResNet34_Weights.DEFAULT` to get the most up-to-date weights.\n",
      "  warnings.warn(msg)\n"
     ]
    }
   ],
   "source": [
    "# fixing class weights\n",
    "class_weights = compute_class_weight('balanced', classes=np.unique(trainset_df['label']), y=trainset_df['label'])\n",
    "class_weights = torch.tensor(class_weights, dtype=torch.float).to(device)\n",
    "\n",
    "# Initialize the model, loss function, and optimizer\n",
    "model = GarbageClassifier(num_classes=len(class_names)).to(device)\n",
    "\n",
    "# Freeze all ResNet layers\n",
    "for param in model.resnet.parameters():\n",
    "    param.requires_grad = False\n",
    "\n",
    "# Unfreeze the last ResNet block\n",
    "for param in model.resnet.base_model.layer4.parameters():\n",
    "    param.requires_grad = True\n",
    "\n",
    "# Optionally, unfreeze BatchNorm layers to allow them to adapt to your data\n",
    "for module in model.resnet.modules():\n",
    "    if isinstance(module, nn.BatchNorm2d):\n",
    "        for param in module.parameters():\n",
    "            param.requires_grad = True\n",
    "\n",
    "# Freeze all BERT layers\n",
    "for param in model.bert.parameters():\n",
    "    param.requires_grad = False\n",
    "\n",
    "# Unfreeze the last BERT encoder layer\n",
    "for param in model.bert.encoder.layer[-1].parameters():\n",
    "    param.requires_grad = True\n",
    "\n",
    "criterion = nn.CrossEntropyLoss()\n",
    "optimizer = optim.Adam(filter(lambda p: p.requires_grad, model.parameters()), lr=0.001)"
   ]
  },
  {
   "cell_type": "code",
   "execution_count": 17,
   "metadata": {},
   "outputs": [
    {
     "name": "stdout",
     "output_type": "stream",
     "text": [
      "Epoch 1/10\n",
      "----------\n"
     ]
    }
   ],
   "source": [
    "\n",
    "num_epochs = 10\n",
    "wandb.config = {\"epochs\": num_epochs, \"batch_size\": batch_size, \"learning_rate\": 0.001}\n",
    "\n",
    "best_val_acc = 0.0  # Variable to track the best validation accuracy\n",
    "\n",
    "for epoch in range(wandb.config['epochs']):\n",
    "    print(f'Epoch {epoch + 1}/{num_epochs}')\n",
    "    print('-' * 10)\n",
    "    \n",
    "    # Training phase\n",
    "    model.train()\n",
    "    running_loss_image = 0.0\n",
    "    running_loss_text = 0.0\n",
    "    running_loss_combined = 0.0\n",
    "    running_corrects_image = 0\n",
    "    running_corrects_text = 0\n",
    "    running_corrects_combined = 0\n",
    "    \n",
    "    for i, batch in enumerate(trainloader, 0):\n",
    "        images = batch['image'].to(device)\n",
    "        text_input_ids = batch['input_ids'].to(device)\n",
    "        text_attention_mask = batch['attention_mask'].to(device)\n",
    "        labels = batch['label'].to(device)\n",
    "        \n",
    "        optimizer.zero_grad()\n",
    "\n",
    "        # Forward pass (separate outputs)\n",
    "        image_output, text_output, combined_output = model(images, text_input_ids, text_attention_mask)\n",
    "        \n",
    "        # Compute loss for image, text, and combined models\n",
    "        loss_image = criterion(image_output, labels)\n",
    "        loss_text = criterion(text_output, labels)\n",
    "        loss_combined = criterion(combined_output, labels)\n",
    "        \n",
    "        # Backward pass and optimization\n",
    "        total_loss = loss_image + loss_text + loss_combined\n",
    "        total_loss.backward()\n",
    "        optimizer.step()\n",
    "\n",
    "        # Update running loss and accuracy for image, text, and combined\n",
    "        running_loss_image += loss_image.item() * images.size(0)\n",
    "        running_loss_text += loss_text.item() * images.size(0)\n",
    "        running_loss_combined += loss_combined.item() * images.size(0)\n",
    "        \n",
    "        _, preds_image = torch.max(image_output, 1)\n",
    "        _, preds_text = torch.max(text_output, 1)\n",
    "        _, preds_combined = torch.max(combined_output, 1)\n",
    "\n",
    "        running_corrects_image += torch.sum(preds_image == labels.data)\n",
    "        running_corrects_text += torch.sum(preds_text == labels.data)\n",
    "        running_corrects_combined += torch.sum(preds_combined == labels.data)\n",
    "    \n",
    "    # Compute epoch loss and accuracy for image, text, and combined\n",
    "    epoch_loss_image = running_loss_image / len(trainset)\n",
    "    epoch_loss_text = running_loss_text / len(trainset)\n",
    "    epoch_loss_combined = running_loss_combined / len(trainset)\n",
    "    \n",
    "    epoch_acc_image = running_corrects_image.double() / len(trainset)\n",
    "    epoch_acc_text = running_corrects_text.double() / len(trainset)\n",
    "    epoch_acc_combined = running_corrects_combined.double() / len(trainset)\n",
    "\n",
    "    print(f'Training Loss (Image): {epoch_loss_image:.4f} Acc (Image): {epoch_acc_image:.4f}')\n",
    "    print(f'Training Loss (Text): {epoch_loss_text:.4f} Acc (Text): {epoch_acc_text:.4f}')\n",
    "    print(f'Training Loss (Combined): {epoch_loss_combined:.4f} Acc (Combined): {epoch_acc_combined:.4f}')\n",
    "    \n",
    "    wandb.log({\n",
    "        \"Training Loss (Image)\": epoch_loss_image, \n",
    "        \"Training Accuracy (Image)\": epoch_acc_image,\n",
    "        \"Training Loss (Text)\": epoch_loss_text, \n",
    "        \"Training Accuracy (Text)\": epoch_acc_text,\n",
    "        \"Training Loss (Combined)\": epoch_loss_combined, \n",
    "        \"Training Accuracy (Combined)\": epoch_acc_combined\n",
    "    })\n",
    "    \n",
    "    # Validation phase (same structure as training phase)\n",
    "    model.eval()\n",
    "    val_running_loss_image = 0.0\n",
    "    val_running_loss_text = 0.0\n",
    "    val_running_loss_combined = 0.0\n",
    "    val_running_corrects_image = 0\n",
    "    val_running_corrects_text = 0\n",
    "    val_running_corrects_combined = 0\n",
    "    \n",
    "    with torch.no_grad():\n",
    "        for batch in valloader:\n",
    "            images = batch['image'].to(device)\n",
    "            input_ids = batch['input_ids'].to(device)\n",
    "            attention_mask = batch['attention_mask'].to(device)\n",
    "            labels = batch['label'].to(device)\n",
    "\n",
    "            # Forward pass (separate outputs)\n",
    "            image_output, text_output, combined_output = model(images, input_ids, attention_mask)\n",
    "            \n",
    "            # Compute loss for image, text, and combined models\n",
    "            loss_image = criterion(image_output, labels)\n",
    "            loss_text = criterion(text_output, labels)\n",
    "            loss_combined = criterion(combined_output, labels)\n",
    "            \n",
    "            # Update running loss and accuracy for image, text, and combined\n",
    "            val_running_loss_image += loss_image.item() * images.size(0)\n",
    "            val_running_loss_text += loss_text.item() * images.size(0)\n",
    "            val_running_loss_combined += loss_combined.item() * images.size(0)\n",
    "            \n",
    "            _, preds_image = torch.max(image_output, 1)\n",
    "            _, preds_text = torch.max(text_output, 1)\n",
    "            _, preds_combined = torch.max(combined_output, 1)\n",
    "\n",
    "            val_running_corrects_image += torch.sum(preds_image == labels.data)\n",
    "            val_running_corrects_text += torch.sum(preds_text == labels.data)\n",
    "            val_running_corrects_combined += torch.sum(preds_combined == labels.data)\n",
    "    \n",
    "    # Compute validation loss and accuracy for image, text, and combined\n",
    "    val_loss_image = val_running_loss_image / len(valset)\n",
    "    val_loss_text = val_running_loss_text / len(valset)\n",
    "    val_loss_combined = val_running_loss_combined / len(valset)\n",
    "    \n",
    "    val_acc_image = val_running_corrects_image.double() / len(valset)\n",
    "    val_acc_text = val_running_corrects_text.double() / len(valset)\n",
    "    val_acc_combined = val_running_corrects_combined.double() / len(valset)\n",
    "\n",
    "    print(f'Validation Loss (Image): {val_loss_image:.4f} Acc (Image): {val_acc_image:.4f}')\n",
    "    print(f'Validation Loss (Text): {val_loss_text:.4f} Acc (Text): {val_acc_text:.4f}')\n",
    "    print(f'Validation Loss (Combined): {val_loss_combined:.4f} Acc (Combined): {val_acc_combined:.4f}')\n",
    "    \n",
    "    wandb.log({\n",
    "        \"Validation Loss (Image)\": val_loss_image, \n",
    "        \"Validation Accuracy (Image)\": val_acc_image,\n",
    "        \"Validation Loss (Text)\": val_loss_text, \n",
    "        \"Validation Accuracy (Text)\": val_acc_text,\n",
    "        \"Validation Loss (Combined)\": val_loss_combined, \n",
    "        \"Validation Accuracy (Combined)\": val_acc_combined\n",
    "    })\n",
    "\n",
    "    if val_acc_combined > best_val_acc:\n",
    "        best_val_acc = val_acc_combined\n",
    "        print(f\"New best model found! Saving model with validation accuracy: {best_val_acc:.4f}\")\n",
    "        torch.save(model.state_dict(), 'best_garbage_model.pth')\n"
   ]
  },
  {
   "cell_type": "code",
   "execution_count": null,
   "metadata": {},
   "outputs": [],
   "source": [
    "model.load_state_dict(torch.load('best_garbage_model.pth'))\n",
    "model.eval()\n",
    "test_running_corrects = 0\n",
    "with torch.no_grad():\n",
    "    for batch in testloader:\n",
    "        images = batch['image'].to(device)\n",
    "        input_ids = batch['input_ids'].to(device)\n",
    "        attention_mask = batch['attention_mask'].to(device)\n",
    "        labels = batch['label'].to(device)\n",
    "        outputs = model(images, input_ids=input_ids, attention_mask=attention_mask)\n",
    "        _, preds = torch.max(outputs, 1)\n",
    "        test_running_corrects += torch.sum(preds == labels.data)\n",
    "test_acc = test_running_corrects.double() / len(testset)\n",
    "print(f'Test Accuracy: {test_acc:.4f}')\n",
    "wandb.log({\"Test Accuracy\": test_acc})"
   ]
  },
  {
   "cell_type": "code",
   "execution_count": null,
   "metadata": {},
   "outputs": [],
   "source": [
    "wandb.finish()"
   ]
  }
 ],
 "metadata": {
  "kernelspec": {
   "display_name": "enel-645",
   "language": "python",
   "name": "python3"
  },
  "language_info": {
   "codemirror_mode": {
    "name": "ipython",
    "version": 3
   },
   "file_extension": ".py",
   "mimetype": "text/x-python",
   "name": "python",
   "nbconvert_exporter": "python",
   "pygments_lexer": "ipython3",
   "version": "3.9.18"
  }
 },
 "nbformat": 4,
 "nbformat_minor": 2
}
