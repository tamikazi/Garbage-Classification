{
 "cells": [
  {
   "cell_type": "markdown",
   "metadata": {
    "id": "sEyHZc4KyTR8"
   },
   "source": [
    "# Garbage Classification Using Multimodal Deep Learning\n",
    "\n",
    "This project implements a multimodal deep learning model that classifies garbage categories based on images and text descriptions. By combining visual and textual data, we aim to enhance classification accuracy compared to single-modality approaches.\n",
    "\n",
    "## Goals:\n",
    "- Develop a model that can classify garbage categories based on both image and textual descriptions.\n",
    "- Implement a two-phase training and fine-tuning approach to optimize performance.\n",
    "- Evaluate model performance using standard metrics like accuracy, precision, recall, and F1-score.\n"
   ]
  },
  {
   "cell_type": "markdown",
   "metadata": {
    "id": "W5ryJG9EgVil"
   },
   "source": [
    "# Imports"
   ]
  },
  {
   "cell_type": "code",
   "execution_count": 1,
   "metadata": {
    "id": "dM2umeGQgU52"
   },
   "outputs": [],
   "source": [
    "import os\n",
    "import re\n",
    "import time\n",
    "import numpy as np\n",
    "import pandas as pd\n",
    "from PIL import Image\n",
    "import matplotlib.pyplot as plt\n",
    "import seaborn as sns\n",
    "\n",
    "import torch\n",
    "import torch.nn as nn\n",
    "from torch.utils.data import Dataset, DataLoader\n",
    "import torch.optim as optim\n",
    "\n",
    "import torchvision\n",
    "from torchvision import transforms, models\n",
    "from torchvision.models import ResNet50_Weights\n",
    "\n",
    "from transformers import BertTokenizer, BertModel\n",
    "from sklearn.utils.class_weight import compute_class_weight\n",
    "from sklearn.metrics import (\n",
    "    precision_score,\n",
    "    recall_score,\n",
    "    f1_score,\n",
    "    confusion_matrix,\n",
    ")"
   ]
  },
  {
   "cell_type": "code",
   "execution_count": 20,
   "metadata": {
    "colab": {
     "base_uri": "https://localhost:8080/"
    },
    "id": "STKFvW08zMx5",
    "outputId": "88306677-7e23-4829-a950-b1d62d8d1b37"
   },
   "outputs": [
    {
     "name": "stdout",
     "output_type": "stream",
     "text": [
      "Mounted at /content/drive\n"
     ]
    }
   ],
   "source": [
    "from google.colab import drive\n",
    "drive.mount('/content/drive')"
   ]
  },
  {
   "cell_type": "markdown",
   "metadata": {
    "id": "ONR_dn1rgenx"
   },
   "source": [
    "# Initialize Device"
   ]
  },
  {
   "cell_type": "code",
   "execution_count": 2,
   "metadata": {
    "colab": {
     "base_uri": "https://localhost:8080/"
    },
    "id": "HjDnaBubghEq",
    "outputId": "ee9e8835-fb1b-4cf0-b69e-291d5f39598a"
   },
   "outputs": [
    {
     "name": "stdout",
     "output_type": "stream",
     "text": [
      "Using device: cuda:0\n"
     ]
    }
   ],
   "source": [
    "device = torch.device('cuda:0' if torch.cuda.is_available() else 'cpu')\n",
    "print(f'Using device: {device}')"
   ]
  },
  {
   "cell_type": "markdown",
   "metadata": {
    "id": "_8GtMjeBgmRv"
   },
   "source": [
    "# Static Global Variables"
   ]
  },
  {
   "cell_type": "code",
   "execution_count": 3,
   "metadata": {
    "id": "pLNzjcNygoNP"
   },
   "outputs": [],
   "source": [
    "# hyperparameters\n",
    "BATCH_SIZE = 64\n",
    "LEARNING_RATE = 0.0001\n",
    "DROPOUT_RATE = 0.3\n",
    "\n",
    "# dataset directories\n",
    "# change these to your own directories where your data is located\n",
    "TRAINSET_DIR = '/content/drive/MyDrive/ENEL645/data/enel645_2024f/garbage_data/CVPR_2024_dataset_Train'\n",
    "VALSET_DIR = '/content/drive/MyDrive/ENEL645/data/enel645_2024f/garbage_data/CVPR_2024_dataset_Val'\n",
    "TESTSET_DIR = '/content/drive/MyDrive/ENEL645/data/enel645_2024f/garbage_data/CVPR_2024_dataset_Test'\n",
    "\n",
    "# global class to index mapping variables\n",
    "class_names = ['Green', 'Blue', 'Black', 'TTR']\n",
    "class_to_idx = {class_name: idx for idx, class_name in enumerate(class_names)}\n",
    "idx_to_class = {idx: class_name for class_name, idx in class_to_idx.items()}"
   ]
  },
  {
   "cell_type": "markdown",
   "metadata": {
    "id": "Cx9MZqy2gq2y"
   },
   "source": [
    "# Class Definitions"
   ]
  },
  {
   "cell_type": "markdown",
   "metadata": {
    "id": "sWFWyGOkyTSA"
   },
   "source": [
    "## GarbageDataset Class\n",
    "### Data Processing Steps\n",
    "1. **Image Loading and Transformation**:\n",
    "   - Each image is loaded and converted to RGB.\n",
    "   - If specified, transformations like resizing and normalization are applied to prepare the image for the model.\n",
    "   \n",
    "2. **Text Tokenization and Caching**:\n",
    "   - Text descriptions are tokenized using a pre-trained tokenizer.\n",
    "   - Tokenization results are cached to avoid redundant computations, especially useful for repeated descriptions.\n",
    "   \n",
    "3. **Label Encoding**:\n",
    "   - Textual labels are converted to numeric format using a `class_to_idx` mapping, ensuring labels are compatible with the classification model.\n",
    "\n",
    "This class is designed to support multimodal learning by enabling the model to process and learn from both image and text data, enhancing its classification capabilities."
   ]
  },
  {
   "cell_type": "code",
   "execution_count": 4,
   "metadata": {
    "id": "os8Vw8WhgtBc"
   },
   "outputs": [],
   "source": [
    "\"\"\"\n",
    "**GarbageDataset**\n",
    "\n",
    "This class loads data from a DataFrame containing image paths, text descriptions, and labels. It applies image\n",
    "transformations, tokenizes text descriptions, and maps labels to numeric values for training a deep learning model.\n",
    "\n",
    "Attributes:\n",
    "    dataframe (pd.DataFrame): The input DataFrame containing 'image_path', 'text_description', and 'label' columns.\n",
    "    image_transform (callable, optional): Image transformation function to preprocess images.\n",
    "    max_len (int): Maximum length for text tokenization (default: 32).\n",
    "    tokenizer (transformers.PreTrainedTokenizer, optional): Tokenizer for text processing.\n",
    "    class_to_idx (dict): Mapping of class labels to numeric indices for model training.\n",
    "\n",
    "Methods:\n",
    "    __len__(): Returns the number of samples in the dataset.\n",
    "    __getitem__(idx): Retrieves the image, tokenized text, and label for a given index.\n",
    "\n",
    "        Inputs:\n",
    "            idx (int): Index of the data sample to retrieve.\n",
    "        Outputs:\n",
    "            dict: A dictionary containing:\n",
    "                - 'image' (torch.Tensor): The preprocessed image tensor.\n",
    "                - 'input_ids' (torch.Tensor): The tokenized text input IDs.\n",
    "                - 'attention_mask' (torch.Tensor): Attention mask for tokenized text.\n",
    "                - 'label' (torch.Tensor): Numeric label for classification.\n",
    "                - 'text_description' (str): Original text description for reference.\n",
    "\"\"\"\n",
    "class GarbageDataset(Dataset):\n",
    "    # Initialize the dataset with a dataframe\n",
    "    def __init__(self, dataframe, image_transform=None, max_len=32, tokenizer=None, class_to_idx=None):\n",
    "        self.dataframe = dataframe\n",
    "        self.image_transform = image_transform\n",
    "        self.tokenizer = tokenizer\n",
    "        self.max_len = max_len\n",
    "        self.class_to_idx = class_to_idx\n",
    "\n",
    "        # Cache for storing tokenized descriptions to avoid re-tokenizing duplicate descriptions\n",
    "        self._token_cache = {}\n",
    "\n",
    "    # Return the number of samples in the dataset\n",
    "    def __len__(self):\n",
    "        return len(self.dataframe)\n",
    "\n",
    "    def __getitem__(self, idx):\n",
    "        # Get image path, text description, and label from the dataframe\n",
    "        img_path = self.dataframe.iloc[idx]['image_path']\n",
    "        text_desc = self.dataframe.iloc[idx]['text_description']\n",
    "        label = self.dataframe.iloc[idx]['label']\n",
    "\n",
    "        # Load and preprocess the image\n",
    "        image = Image.open(img_path).convert(\"RGB\")\n",
    "\n",
    "        # Transform the image\n",
    "        if self.image_transform:\n",
    "            image = self.image_transform(image)\n",
    "\n",
    "        # Tokenize the text description using caching\n",
    "        if text_desc in self._token_cache:\n",
    "            text_inputs = self._token_cache[text_desc]\n",
    "        else:\n",
    "            text_inputs = self.tokenizer(\n",
    "                text_desc,\n",
    "                add_special_tokens=True,\n",
    "                padding='max_length',\n",
    "                truncation=True,\n",
    "                max_length=self.max_len,\n",
    "                return_token_type_ids=False,\n",
    "                return_tensors=\"pt\"\n",
    "            )\n",
    "            self._token_cache[text_desc] = text_inputs\n",
    "\n",
    "        # Convert string label to numeric label using the class mapping\n",
    "        numeric_label = self.class_to_idx[label]\n",
    "\n",
    "        # Return the image, text input, and numeric label\n",
    "        return {\n",
    "            'image': image,\n",
    "            'input_ids': text_inputs['input_ids'].squeeze(0),\n",
    "            'attention_mask': text_inputs['attention_mask'].squeeze(0),\n",
    "            'label': torch.tensor(numeric_label, dtype=torch.long),\n",
    "            'text_description': text_desc  # For logging misclassified examples\n",
    "        }"
   ]
  },
  {
   "cell_type": "markdown",
   "metadata": {
    "id": "UXvs2V9_yTSA"
   },
   "source": [
    "## Model Definition: Multimodal Garbage Classifier\n",
    "\n",
    "Our model integrates two branches:\n",
    "1. **Image Model**: Extracts features from garbage images using a pre-trained convolutional neural network (ResNet-50).\n",
    "2. **Text Model**: Encodes textual descriptions using BERT embeddings.\n",
    "\n",
    "Both branches' outputs are combined in a fusion layer to produce the final classification prediction.\n",
    "\n",
    "### Components:\n",
    "- **Image Branch**: Extracts visual features from garbage images.\n",
    "- **Text Branch**: Encodes descriptions into meaningful embeddings.\n",
    "- **Fusion Layer**: Combines image and text features to generate a multimodal representation."
   ]
  },
  {
   "cell_type": "code",
   "execution_count": null,
   "metadata": {
    "id": "i7-90XIZhGb0"
   },
   "outputs": [],
   "source": [
    "\"\"\"\n",
    "**ImageModel**\n",
    "\n",
    "This model loads a ResNet-50 model, removes its final classification layer, and replaces it with a custom\n",
    "feature extraction layer to output a 512-dimensional feature vector for each image. A dropout layer is applied\n",
    "to prevent overfitting.\n",
    "\n",
    "Attributes:\n",
    "    dropout_rate (float): Dropout probability applied in the feature extraction layer (default: 0.5).\n",
    "    model (torchvision.models.ResNet): Pre-trained ResNet-50 model with the classification layer removed.\n",
    "    feature_extractor (nn.Sequential): Sequential layers containing a linear transformation, ReLU activation,\n",
    "        and dropout, which outputs a 512-dimensional feature vector.\n",
    "\n",
    "Methods:\n",
    "    forward(x): Passes an input image through the ResNet-50 backbone and feature extractor.\n",
    "\n",
    "        Inputs:\n",
    "            x (torch.Tensor): Input image tensor with shape (batch_size, 3, H, W).\n",
    "\n",
    "        Outputs:\n",
    "            torch.Tensor: A 512-dimensional feature vector for each input image, with shape (batch_size, 512).\n",
    "\"\"\"\n",
    "class ImageModel(nn.Module):\n",
    "    def __init__(self, dropout_rate=0.2):\n",
    "        # Initialize the model\n",
    "        super(ImageModel, self).__init__()\n",
    "\n",
    "        # Load a pre-trained ResNet50 model with default weights\n",
    "        self.model = models.resnet50(weights=ResNet50_Weights.DEFAULT)\n",
    "\n",
    "        # Remove the last classification layer\n",
    "        self.model.fc = nn.Identity()\n",
    "\n",
    "        # Feature extractor to output a feature vector\n",
    "        self.feature_extractor = nn.Sequential(\n",
    "            nn.Linear(2048, 512),\n",
    "            nn.BatchNorm1d(512),\n",
    "            nn.ReLU(),\n",
    "            nn.Dropout(dropout_rate)\n",
    "        )\n",
    "\n",
    "    def forward(self, x):\n",
    "        # Pass the input through the ResNet50 model up to the last layer (output shape: batch_size x 2048)\n",
    "        x = self.model(x)\n",
    "\n",
    "        # Process the features and produce a 512-dimensional feature vector\n",
    "        x = self.feature_extractor(x)\n",
    "        return x"
   ]
  },
  {
   "cell_type": "code",
   "execution_count": null,
   "metadata": {
    "id": "9PwcvGtChHUT"
   },
   "outputs": [],
   "source": [
    "\"\"\"\n",
    "**TextModel**\n",
    "\n",
    "This model uses a pre-trained BERT architecture to generate contextual embeddings from text input.\n",
    "It extracts the representation of the [CLS] token and processes it through a dropout layer and a\n",
    "linear transformation to produce a 512-dimensional feature vector for classification tasks.\n",
    "\n",
    "Attributes:\n",
    "    dropout_rate (float): Dropout probability applied after the [CLS] token extraction (default: 0.5).\n",
    "    pretrained_model_name (str): The name of the pre-trained BERT model to be used (default: 'bert-base-uncased').\n",
    "    bert (transformers.BertModel): The BERT model for extracting embeddings.\n",
    "    dropout (nn.Dropout): Dropout layer for regularization.\n",
    "    feature_extractor (nn.Linear): Linear layer that reduces the BERT output to a 512-dimensional feature vector.\n",
    "\n",
    "Methods:\n",
    "    forward(input_ids, attention_mask): Passes tokenized text input through the BERT model and feature extractor.\n",
    "\n",
    "        Inputs:\n",
    "            input_ids (torch.Tensor): Input tensor containing token IDs with shape (batch_size, max_length).\n",
    "            attention_mask (torch.Tensor): Attention mask tensor indicating valid tokens with shape (batch_size, max_length).\n",
    "\n",
    "        Outputs:\n",
    "            torch.Tensor: A 512-dimensional feature vector for each input sequence, with shape (batch_size, 512).\n",
    "\"\"\"\n",
    "class TextModel(nn.Module):\n",
    "    # Initialize the TextModel and load a pretrained BERT model\n",
    "    def __init__(self, dropout_rate=0.5, pretrained_model_name='bert-base-uncased'):\n",
    "        super(TextModel, self).__init__()\n",
    "        self.bert = BertModel.from_pretrained(pretrained_model_name)\n",
    "\n",
    "        # Define a dropout layer for regularization\n",
    "        self.dropout = nn.Dropout(dropout_rate)\n",
    "\n",
    "        # Define a linear layer to map the BERT output size to a smaller 512-dimensional feature vector\n",
    "        self.feature_extractor = nn.Sequential(\n",
    "            nn.Linear(self.bert.config.hidden_size, 512),\n",
    "            nn.BatchNorm1d(512),\n",
    "            nn.ReLU(),\n",
    "            nn.Dropout(dropout_rate)\n",
    "        )\n",
    "        \n",
    "        nn.Linear(self.bert.config.hidden_size, 512)\n",
    "\n",
    "    def forward(self, input_ids, attention_mask):\n",
    "        # Pass the input IDs and attention mask through the BERT model to get the outputs\n",
    "        outputs = self.bert(input_ids=input_ids, attention_mask=attention_mask)\n",
    "\n",
    "        # Extract the CLS token embedding from the last hidden state (the first token of the output)\n",
    "        cls_token_embedding = outputs.last_hidden_state[:, 0, :]\n",
    "\n",
    "        # Apply dropout to the CLS token embedding for regularization\n",
    "        pooled_output = self.dropout(cls_token_embedding)\n",
    "\n",
    "        # Pass the pooled output through the feature extractor to obtain the final text features\n",
    "        text_features = self.feature_extractor(pooled_output)\n",
    "\n",
    "        return text_features"
   ]
  },
  {
   "cell_type": "code",
   "execution_count": null,
   "metadata": {
    "id": "kxLDXqubhJad"
   },
   "outputs": [],
   "source": [
    "\"\"\"\n",
    "**GarbageClassifier**\n",
    "\n",
    "This model integrates features extracted from images using a ResNet-50 backbone and text features using a\n",
    "BERT model. The output from both models is concatenated and processed through several fully connected layers\n",
    "to produce class predictions for garbage classification.\n",
    "\n",
    "Attributes:\n",
    "    num_classes (int): The number of output classes for classification (default: 4).\n",
    "    dropout_rate (float): Dropout probability applied in the fusion layers (default: 0.5).\n",
    "    image_model (ImageModel): Instance of the image feature extraction model.\n",
    "    text_model (TextModel): Instance of the text feature extraction model.\n",
    "    fusion (nn.Sequential): Sequential layers for combining features and outputting class predictions.\n",
    "\n",
    "Methods:\n",
    "    forward(image, input_ids, attention_mask): Combines image and text features to make class predictions.\n",
    "\n",
    "        Inputs:\n",
    "            image (torch.Tensor): Input image tensor with shape (batch_size, 3, H, W).\n",
    "            input_ids (torch.Tensor): Input tensor containing token IDs with shape (batch_size, max_length).\n",
    "            attention_mask (torch.Tensor): Attention mask tensor indicating valid tokens with shape (batch_size, max_length).\n",
    "\n",
    "        Outputs:\n",
    "            torch.Tensor: Class predictions with shape (batch_size, num_classes).\n",
    "\"\"\"\n",
    "class GarbageClassifier(nn.Module):\n",
    "    def __init__(self, num_classes=4, dropout_rate=0.5):\n",
    "        # Initialize the classifier\n",
    "        super(GarbageClassifier, self).__init__()\n",
    "\n",
    "        # Get the image model\n",
    "        self.image_model = ImageModel(dropout_rate=dropout_rate)\n",
    "\n",
    "        # Get the text model\n",
    "        self.text_model = TextModel(dropout_rate=dropout_rate)\n",
    "\n",
    "        # Delcare the fusion and classification layers\n",
    "        self.fusion = nn.Sequential(\n",
    "            nn.Linear(512 + 512, 256),\n",
    "            #nn.BatchNorm1d(256),\n",
    "            nn.ReLU(),\n",
    "            nn.Dropout(dropout_rate),\n",
    "            nn.Linear(256, num_classes)\n",
    "        )\n",
    "\n",
    "    def forward(self, image, input_ids, attention_mask):\n",
    "        # Get image features - Shape: (batch_size, 512)\n",
    "        image_features = self.image_model(image)\n",
    "\n",
    "        # Get text features (logits) - Shape: (batch_size, num_classes)\n",
    "        text_features = self.text_model(input_ids, attention_mask)\n",
    "\n",
    "        # Combined features - Shape: (batch_size, 512 + num_classes)\n",
    "        combined_features = torch.cat((image_features, text_features), dim=1)\n",
    "\n",
    "        # Combined prediction - Shape: (batch_size, num_classes)\n",
    "        combined_output = self.fusion(combined_features)\n",
    "\n",
    "        return combined_output"
   ]
  },
  {
   "cell_type": "code",
   "execution_count": null,
   "metadata": {},
   "outputs": [],
   "source": [
    "\"\"\"\n",
    "UnNormalize class\n",
    "\n",
    "A class to reverse the normalization applied to images.\n",
    "\n",
    "This is useful when you need to visualize or process images in their original form after they have\n",
    "been normalized (e.g., for model training). The class applies the inverse transformation to return\n",
    "the image to its original scale.\n",
    "\"\"\"\n",
    "\n",
    "class UnNormalize(object):\n",
    "\n",
    "    def __init__(self, mean, std):\n",
    "        \"\"\"\n",
    "        Initialize the UnNormalize transformation with the mean and standard deviation used during normalization.\n",
    "\n",
    "        Args:\n",
    "            mean (list or tuple): The mean values for each channel used during normalization.\n",
    "            std (list or tuple): The standard deviation values for each channel used during normalization.\n",
    "        \"\"\"\n",
    "        # Convert mean and std to torch tensors and reshape to match image dimensions (C x 1 x 1)\n",
    "        self.mean = torch.tensor(mean).view(3, 1, 1)\n",
    "        self.std = torch.tensor(std).view(3, 1, 1)\n",
    "\n",
    "    def __call__(self, tensor):\n",
    "        \"\"\"\n",
    "        Apply the un-normalization to a normalized image tensor.\n",
    "\n",
    "        Args:\n",
    "            tensor (torch.Tensor): The normalized image tensor to be un-normalized.\n",
    "\n",
    "        Returns:\n",
    "            torch.Tensor: The un-normalized image tensor with values clamped between 0 and 1.\n",
    "        \"\"\"\n",
    "        # Reverse the normalization: multiply by std and add mean\n",
    "        tensor = tensor * self.std + self.mean\n",
    "        # Clamp the tensor values to be within the valid image range [0, 1]\n",
    "        return torch.clamp(tensor, 0, 1)"
   ]
  },
  {
   "cell_type": "markdown",
   "metadata": {
    "id": "VwQB296-g6ao"
   },
   "source": [
    "# Function Definitions"
   ]
  },
  {
   "cell_type": "markdown",
   "metadata": {
    "id": "DINfEpBWyTSB"
   },
   "source": [
    "### Extracting Data\n",
    "\n",
    "1. **Directory Traversal**:\n",
    "   - The function iterates through each subfolder in the base directory. Each subfolder is expected to represent a distinct class, named according to the class label.\n",
    "\n",
    "2. **File Filtering and Path Extraction**:\n",
    "   - Within each subfolder, the function filters for image files (JPEG, PNG formats) and constructs the full file path for each.\n",
    "\n",
    "3. **Text Description Generation**:\n",
    "   - Filenames are used as initial descriptions. Extensions are removed, and underscores (`_`) are replaced with spaces.\n",
    "   - Digits are removed from filenames to yield cleaner descriptions, which are then converted to lowercase.\n",
    "\n",
    "4. **Data Compilation**:\n",
    "   - Each image’s path, generated text description, and corresponding class label are stored in a dictionary and appended to a list.\n",
    "   - Finally, the list of dictionaries is converted into a pandas DataFrame, facilitating easy data manipulation and access for model training.\n",
    "\n",
    "### Example DataFrame Structure\n",
    "\n",
    "| image_path           | text_description    | label       |\n",
    "|----------------------|---------------------|-------------|\n",
    "| `path/to/image_a_1.jpg` | `image a`      | `label1`    |\n",
    "| `path/to/image_b_2.png` | `image b`   | `label2`    |\n",
    "\n",
    "This DataFrame can then be used for further data preprocessing, such as tokenizing text descriptions and creating data loaders for model training."
   ]
  },
  {
   "cell_type": "code",
   "execution_count": 8,
   "metadata": {
    "id": "WFfroVZYg8wT"
   },
   "outputs": [],
   "source": [
    "\"\"\"\n",
    "**extract_data_from_folders**\n",
    "\n",
    "This function traverses through a specified base directory containing subfolders. Each subfolder represents a\n",
    "distinct class label, and it extracts image file paths, generates text descriptions from the filenames, and\n",
    "associates them with their respective labels. The resulting data is compiled into a pandas DataFrame for\n",
    "convenient processing and manipulation.\n",
    "\n",
    "Args:\n",
    "    base_dir (str): The path to the base directory containing subfolders with images.\n",
    "\n",
    "Returns:\n",
    "    pd.DataFrame: A DataFrame containing the extracted information with columns:\n",
    "        - 'image_path': Path to the image file.\n",
    "        - 'text_description': A text description generated from the filename, cleaned of digits and underscores.\n",
    "        - 'label': The name of the subfolder, representing the class label for the images.\n",
    "\"\"\"\n",
    "def extract_data_from_folders(base_dir):\n",
    "    data = []\n",
    "\n",
    "    # Traverse through each subfolder\n",
    "    for label_folder in os.listdir(base_dir):\n",
    "        folder_path = os.path.join(base_dir, label_folder)\n",
    "\n",
    "        # Check if it's a directory\n",
    "        if os.path.isdir(folder_path):\n",
    "            # Loop through each image file in the subfolder\n",
    "            for filename in os.listdir(folder_path):\n",
    "                # Filter through image files\n",
    "                if filename.endswith(('.jpg', '.png', '.jpeg')):\n",
    "                    image_path = os.path.join(folder_path, filename)\n",
    "\n",
    "                    # Extract text from filename (remove file extension)\n",
    "                    text_description = os.path.splitext(filename)[0]\n",
    "\n",
    "                    # Append image path, text, and label to the data list\n",
    "                    text = text_description.replace('_', ' ')\n",
    "                    text_without_digits = re.sub(r'\\d+', '', text).strip().lower()\n",
    "                    data.append({\n",
    "                        'image_path': image_path,\n",
    "                        'text_description': text_without_digits,\n",
    "                        # The subfolder name represents the label\n",
    "                        'label': label_folder\n",
    "                    })\n",
    "\n",
    "    # Convert to DataFrame for easy manipulation\n",
    "    return pd.DataFrame(data)"
   ]
  },
  {
   "cell_type": "code",
   "execution_count": 9,
   "metadata": {
    "id": "B8-RLMvDhndU"
   },
   "outputs": [],
   "source": [
    "\"\"\"\n",
    "**compute_class_weights**\n",
    "\n",
    "This function calculates weights for each class based on their frequency in the training dataset.\n",
    "It uses the `compute_class_weight` function from sklearn to generate weights that can be used\n",
    "to mitigate the impact of imbalanced class distribution during training. The resulting weights\n",
    "are returned as a tensor for use in model training.\n",
    "\n",
    "Args:\n",
    "    trainset_df (pd.DataFrame): DataFrame containing the training dataset with a column 'label'\n",
    "                                    representing the class labels.\n",
    "\n",
    "Returns:\n",
    "    torch.Tensor: A tensor containing the computed class weights, where each weight corresponds\n",
    "                    to a class in the dataset.\n",
    "\"\"\"\n",
    "def compute_class_weights(trainset_df):\n",
    "    # Extract unique class labels from the 'label' column of the training set DataFrame.\n",
    "    class_labels = np.unique(trainset_df['label'])\n",
    "\n",
    "    # Calculate the class weights using the compute_class_weight function from sklearn.\n",
    "    class_weights = compute_class_weight(\n",
    "        'balanced',\n",
    "        classes=class_labels,\n",
    "        y=trainset_df['label']\n",
    "    )\n",
    "\n",
    "    # Create a mapping from class labels to their corresponding weights.\n",
    "    class_weights_dict = {label: weight for label, weight in zip(class_labels, class_weights)}\n",
    "\n",
    "    # Map the class weights to the class indices defined in the variable class_names.\n",
    "    class_weights_list = [class_weights_dict[class_name] for class_name in class_names]\n",
    "\n",
    "    # Convert the list of class weights into a PyTorch tensor and move it to the specified device (CPU or GPU).\n",
    "    class_weights_tensor = torch.tensor(class_weights_list, dtype=torch.float).to(device)\n",
    "\n",
    "    return class_weights_tensor"
   ]
  },
  {
   "cell_type": "code",
   "execution_count": null,
   "metadata": {
    "id": "LpRcv27ChoZI"
   },
   "outputs": [],
   "source": [
    "\"\"\"\n",
    "**data_preprocessing**\n",
    "\n",
    "This function handles the following tasks:\n",
    "1. Extracts image paths, text descriptions, and labels from specified directories for training, validation,\n",
    "    and test datasets.\n",
    "2. Computes class weights to address class imbalance.\n",
    "3. Initializes the BERT tokenizer for text processing.\n",
    "4. Defines image transformations for both training and testing datasets.\n",
    "5. Creates instances of the `GarbageDataset` class for each dataset.\n",
    "6. Initializes DataLoaders for efficient batching and shuffling of the datasets.\n",
    "\n",
    "Returns:\n",
    "    tuple: A tuple containing:\n",
    "        - trainloader (DataLoader): DataLoader for the training dataset.\n",
    "        - valloader (DataLoader): DataLoader for the validation dataset.\n",
    "        - testloader (DataLoader): DataLoader for the test dataset.\n",
    "        - class_weights_tensor (torch.Tensor): Tensor containing the computed class weights.\n",
    "\"\"\"\n",
    "def data_preprocessing():\n",
    "    # Extract the data from the specified directories for training, validation, and testing\n",
    "    trainset_df = extract_data_from_folders(TRAINSET_DIR)\n",
    "    valset_df = extract_data_from_folders(VALSET_DIR)\n",
    "    testset_df = extract_data_from_folders(TESTSET_DIR)\n",
    "\n",
    "    # Compute class weights to address any class imbalance in the training set\n",
    "    class_weights_tensor = compute_class_weights(trainset_df)\n",
    "\n",
    "    # Initialize the BERT tokenizer for processing text data\n",
    "    tokenizer = BertTokenizer.from_pretrained('bert-base-uncased')\n",
    "\n",
    "    # Define image transformations for the training set, including resizing, data augmentation, and normalization\n",
    "    transform_train = transforms.Compose([\n",
    "        transforms.Resize((224, 224)),  # Resize images to 224x224 pixels\n",
    "        transforms.RandomHorizontalFlip(),  # Randomly flip images horizontally for augmentation\n",
    "        transforms.RandomRotation(10),  # Randomly rotate images by up to 10 degrees for augmentation\n",
    "        transforms.ToTensor(),  # Convert PIL images to PyTorch tensors\n",
    "        transforms.Normalize(  # Normalize the images with specified mean and standard deviation values\n",
    "            mean=[0.485, 0.456, 0.406],\n",
    "            std=[0.229, 0.224, 0.225]\n",
    "        )\n",
    "    ])\n",
    "\n",
    "    # Define image transformations for the test set, which do not include augmentation\n",
    "    transform_test = transforms.Compose([\n",
    "        transforms.Resize((224, 224)),  # Resize images to 224x224 pixels\n",
    "        transforms.ToTensor(),  # Convert PIL images to PyTorch tensors\n",
    "        transforms.Normalize(  # Normalize the images with specified mean and standard deviation values\n",
    "            mean=[0.485, 0.456, 0.406],\n",
    "            std=[0.229, 0.224, 0.225]\n",
    "        )\n",
    "    ])\n",
    "\n",
    "    # Create datasets for training, validation, and testing using the GarbageDataset class\n",
    "    trainset = GarbageDataset(\n",
    "        trainset_df,\n",
    "        image_transform=transform_train,\n",
    "        class_to_idx=class_to_idx,\n",
    "        tokenizer=tokenizer,\n",
    "        max_len=32\n",
    "    )\n",
    "    valset = GarbageDataset(\n",
    "        valset_df,\n",
    "        image_transform=transform_train,\n",
    "        class_to_idx=class_to_idx,\n",
    "        tokenizer=tokenizer,\n",
    "        max_len=32\n",
    "    )\n",
    "    testset = GarbageDataset(\n",
    "        testset_df,\n",
    "        image_transform=transform_test,\n",
    "        class_to_idx=class_to_idx,\n",
    "        tokenizer=tokenizer,\n",
    "        max_len=32\n",
    "    )\n",
    "\n",
    "    # Create DataLoader objects for training, validation, and testing, specifying batch size and number of workers\n",
    "    trainloader = DataLoader(\n",
    "        trainset,\n",
    "        batch_size=BATCH_SIZE,\n",
    "        shuffle=True,\n",
    "        num_workers=2\n",
    "    )\n",
    "    valloader = DataLoader(\n",
    "        valset,\n",
    "        batch_size=BATCH_SIZE,\n",
    "        shuffle=False,\n",
    "        num_workers=2\n",
    "    )\n",
    "    testloader = DataLoader(\n",
    "        testset,\n",
    "        batch_size=BATCH_SIZE,\n",
    "        shuffle=False,\n",
    "        num_workers=2\n",
    "    )\n",
    "\n",
    "    # Return the DataLoader objects and the class weights tensor for use in training and evaluation\n",
    "    return trainset_df, valset_df, testset_df trainloader, valloader, testloader, class_weights_tensor"
   ]
  },
  {
   "cell_type": "code",
   "execution_count": 11,
   "metadata": {
    "id": "V_Qljso0h-Nt"
   },
   "outputs": [],
   "source": [
    "\"\"\"\n",
    "**compute_metrics**\n",
    "\n",
    "This function calculates precision, recall, and F1-score using the true labels and predicted labels.\n",
    "The metrics are computed using the `precision_score`, `recall_score`, and `f1_score` functions from\n",
    "sklearn, with a focus on the weighted average to account for class imbalance.\n",
    "\n",
    "Args:\n",
    "    all_labels (list or np.ndarray): True labels for the dataset.\n",
    "    all_preds_combined (list or np.ndarray): Predicted labels from the model.\n",
    "\n",
    "Returns:\n",
    "    tuple: A tuple containing:\n",
    "        - precision (float): The precision score of the predictions.\n",
    "        - recall (float): The recall score of the predictions.\n",
    "        - f1 (float): The F1 score of the predictions.\n",
    "\"\"\"\n",
    "def compute_metrics(all_labels, all_preds_combined):\n",
    "    # Calculate precision, using a 'weighted' average to account for class imbalance\n",
    "    precision = precision_score(\n",
    "        all_labels, all_preds_combined, average='weighted', zero_division=0\n",
    "    )\n",
    "\n",
    "    # Calculate recall, which measures the ability of the model to find all the relevant instances\n",
    "    recall = recall_score(\n",
    "        all_labels, all_preds_combined, average='weighted', zero_division=0\n",
    "    )\n",
    "\n",
    "    # Calculate the F1 score, which is the harmonic mean of precision and recall\n",
    "    f1 = f1_score(\n",
    "        all_labels, all_preds_combined, average='weighted', zero_division=0\n",
    "    )\n",
    "\n",
    "    # Return the computed precision, recall, and F1 score\n",
    "    return precision, recall, f1"
   ]
  },
  {
   "cell_type": "code",
   "execution_count": 12,
   "metadata": {
    "id": "QugqY3IVhkgi"
   },
   "outputs": [],
   "source": [
    "\"\"\"\n",
    "**plot_training_results**\n",
    "\n",
    "This function generates a 2x2 grid of plots to visualize the training and validation metrics\n",
    "across epochs. It handles both tensor and NumPy array inputs, ensuring compatibility with\n",
    "GPU tensors by moving them to the CPU.\n",
    "\n",
    "Args:\n",
    "    train_losses (list): A list of training loss values for each epoch.\n",
    "    val_losses (list): A list of validation loss values for each epoch.\n",
    "    train_accuracies (list): A list of training accuracy values for each epoch.\n",
    "    val_accuracies (list): A list of validation accuracy values for each epoch.\n",
    "    precisions (list): A list of precision values for each epoch.\n",
    "    recalls (list): A list of recall values for each epoch.\n",
    "    f1_scores (list): A list of F1 scores for each epoch.\n",
    "\n",
    "Returns:\n",
    "    None\n",
    "\"\"\"\n",
    "def plot_training_results(train_losses, val_losses, train_accuracies, val_accuracies, precisions, recalls, f1_scores):\n",
    "    # Convert list of tensors to NumPy arrays if they are on GPU to enable plotting\n",
    "    train_losses = [loss.detach().cpu().numpy() if isinstance(loss, torch.Tensor) else loss for loss in train_losses]\n",
    "    val_losses = [loss.detach().cpu().numpy() if isinstance(loss, torch.Tensor) else loss for loss in val_losses]\n",
    "    train_accuracies = [acc.detach().cpu().numpy() if isinstance(acc, torch.Tensor) else acc for acc in train_accuracies]\n",
    "    val_accuracies = [acc.detach().cpu().numpy() if isinstance(acc, torch.Tensor) else acc for acc in val_accuracies]\n",
    "    precisions = [precision.detach().cpu().numpy() if isinstance(precision, torch.Tensor) else precision for precision in precisions]\n",
    "    recalls = [recall.detach().cpu().numpy() if isinstance(recall, torch.Tensor) else recall for recall in recalls]\n",
    "    f1_scores = [f1.detach().cpu().numpy() if isinstance(f1, torch.Tensor) else f1 for f1 in f1_scores]\n",
    "\n",
    "    # Create a list of epochs corresponding to the number of training iterations\n",
    "    epochs = range(1, len(train_losses) + 1)\n",
    "    epochs = list(epochs)\n",
    "\n",
    "    # Plot Loss\n",
    "    plt.figure(figsize=(12, 8))\n",
    "    plt.subplot(2, 2, 1)\n",
    "    plt.plot(epochs, train_losses, label='Training Loss')\n",
    "    plt.plot(epochs, val_losses, label='Validation Loss')\n",
    "    plt.title('Training and Validation Loss')\n",
    "    plt.xlabel('Epochs')\n",
    "    plt.ylabel('Loss')\n",
    "    plt.legend()\n",
    "\n",
    "    # Plot Accuracy\n",
    "    plt.subplot(2, 2, 2)\n",
    "    plt.plot(epochs, train_accuracies, label='Training Accuracy')\n",
    "    plt.plot(epochs, val_accuracies, label='Validation Accuracy')\n",
    "    plt.title('Training and Validation Accuracy')\n",
    "    plt.xlabel('Epochs')\n",
    "    plt.ylabel('Accuracy')\n",
    "    plt.legend()\n",
    "\n",
    "    # Plot Precision\n",
    "    plt.subplot(2, 2, 3)\n",
    "    plt.plot(epochs, precisions, label='Precision')\n",
    "    plt.title('Validation Precision')\n",
    "    plt.xlabel('Epochs')\n",
    "    plt.ylabel('Precision')\n",
    "    plt.legend()\n",
    "\n",
    "    # Plot Recall and F1 Score\n",
    "    plt.subplot(2, 2, 4)\n",
    "    plt.plot(epochs, recalls, label='Recall')  #\n",
    "    plt.plot(epochs, f1_scores, label='F1 Score')\n",
    "    plt.title('Validation Recall and F1 Score')\n",
    "    plt.xlabel('Epochs')\n",
    "    plt.ylabel('Score')\n",
    "    plt.legend()\n",
    "\n",
    "    # adjust layout, save file, and close to save memory\n",
    "    plt.tight_layout()\n",
    "    plt.show()"
   ]
  },
  {
   "cell_type": "code",
   "execution_count": 13,
   "metadata": {
    "id": "lzohD5BuhtMX"
   },
   "outputs": [],
   "source": [
    "\"\"\"\n",
    "**plot_confusion_matrix**\n",
    "\n",
    "This function generates a heatmap visualization of the confusion matrix using Seaborn.\n",
    "The matrix shows the number of correct and incorrect predictions for each class, allowing\n",
    "for an intuitive understanding of the model's performance.\n",
    "\n",
    "Args:\n",
    "    conf_mat (ndarray): A confusion matrix, typically computed from the test set predictions.\n",
    "\n",
    "Returns:\n",
    "    None\n",
    "\"\"\"\n",
    "def plot_confusion_matrix(conf_mat):\n",
    "    # Create a figure and axis for the confusion matrix plot\n",
    "    fig, ax = plt.subplots(figsize=(6, 6))\n",
    "\n",
    "    # Use seaborn's heatmap to visualize the confusion matrix\n",
    "    sns.heatmap(\n",
    "        conf_mat,  # The confusion matrix to plot\n",
    "        annot=True,  # Annotate each cell with the numeric value\n",
    "        fmt='d',  # Format of the annotation as integers\n",
    "        cmap='Blues',  # Color map for the heatmap\n",
    "        xticklabels=class_names,  # X-axis labels as class names for predicted labels\n",
    "        yticklabels=class_names  # Y-axis labels as class names for actual labels\n",
    "    )\n",
    "\n",
    "    # Add title and axis lables\n",
    "    plt.ylabel('Actual')\n",
    "    plt.xlabel('Predicted')\n",
    "    plt.title('Test Confusion Matrix')\n",
    "\n",
    "    plt.show()"
   ]
  },
  {
   "cell_type": "markdown",
   "metadata": {
    "id": "x91uPuZ9yTSC"
   },
   "source": [
    "## Training and Validation Functions\n",
    "\n",
    "### Train One Epoch\n",
    "This function handles a single training epoch:\n",
    "- Performs a forward pass for each batch.\n",
    "- Computes the combined loss from image and text data.\n",
    "- Updates model parameters using backpropagation.\n",
    "\n",
    "### Validation\n",
    "The validation function evaluates the model after each epoch:\n",
    "- Calculates loss, accuracy, precision, recall, and F1-score.\n",
    "- Tracks the best-performing model to enable early stopping.\n",
    "\n",
    "These functions ensure the model learns effectively while monitoring validation performance.\n"
   ]
  },
  {
   "cell_type": "code",
   "execution_count": 14,
   "metadata": {
    "id": "sOlYQwU7hOvp"
   },
   "outputs": [],
   "source": [
    "\"\"\"\n",
    "**train_one_epoch**\n",
    "\n",
    "This function performs a single training pass over the provided dataset. It iterates through\n",
    "the training data, performs forward and backward passes, computes the loss, and updates the model weights.\n",
    "The function also tracks the running loss and accuracy for the epoch.\n",
    "\n",
    "Args:\n",
    "    model (nn.Module): The model to be trained.\n",
    "    trainloader (DataLoader): The DataLoader for the training dataset.\n",
    "    criterion (nn.Module): The loss function used for training.\n",
    "    optimizer (torch.optim.Optimizer): The optimizer used for updating model weights.\n",
    "\n",
    "Returns:\n",
    "    tuple: A tuple containing:\n",
    "        - epoch_loss_combined (float): The average loss for the epoch.\n",
    "        - epoch_acc_combined (float): The average accuracy for the epoch.\n",
    "\"\"\"\n",
    "def train_one_epoch(model, trainloader, criterion, optimizer):\n",
    "    # Set the model to training mode\n",
    "    model.train()\n",
    "\n",
    "    # Initialize variables to track the cumulative loss and correct predictions\n",
    "    running_loss_combined = 0.0\n",
    "    running_corrects_combined = 0\n",
    "\n",
    "    # Iterate over the training data provided by the DataLoader\n",
    "    for _, batch in enumerate(trainloader):\n",
    "        # Move images and labels to specified device\n",
    "        images = batch['image'].to(device)\n",
    "        input_ids = batch['input_ids'].to(device)\n",
    "        attention_mask = batch['attention_mask'].to(device)\n",
    "        labels = batch['label'].to(device)\n",
    "\n",
    "        # Clear the gradients of the optimizer before each forward pass\n",
    "        optimizer.zero_grad()\n",
    "\n",
    "        # Forward pass through the model\n",
    "        combined_outputs = model(\n",
    "            images, input_ids, attention_mask\n",
    "        )\n",
    "\n",
    "        # Compute the loss using the specified criterion\n",
    "        loss_combined = criterion(combined_outputs, labels)\n",
    "\n",
    "        # Backward pass to compute gradients and optimize the model\n",
    "        loss_combined.backward()\n",
    "        optimizer.step()\n",
    "\n",
    "        # Update the cumulative loss with the loss from this batch\n",
    "        running_loss_combined += loss_combined.item() * images.size(0)\n",
    "\n",
    "        # Get predictions by selecting the class with the highest score\n",
    "        _, preds_combined = torch.max(combined_outputs, 1)\n",
    "\n",
    "        # Update the count of correct predictions\n",
    "        running_corrects_combined += torch.sum(preds_combined == labels.data)\n",
    "\n",
    "    # Compute epoch loss and accuracy for the epoch\n",
    "    epoch_loss_combined = running_loss_combined / len(trainloader.dataset)\n",
    "    epoch_acc_combined = running_corrects_combined.double() / len(trainloader.dataset)\n",
    "\n",
    "    return epoch_loss_combined, epoch_acc_combined"
   ]
  },
  {
   "cell_type": "code",
   "execution_count": 15,
   "metadata": {
    "id": "jt_Gd8jJhVW5"
   },
   "outputs": [],
   "source": [
    "\"\"\"\n",
    "**validate**\n",
    "\n",
    "This function evaluates the model's performance on the validation set by calculating the validation loss,\n",
    "accuracy, and additional metrics such as precision, recall, and F1 score. It uses the model in evaluation mode\n",
    "and disables gradient computation to save memory and improve performance during inference.\n",
    "\n",
    "Args:\n",
    "    model (nn.Module): The neural network model to validate.\n",
    "    valloader (DataLoader): The DataLoader for the validation dataset.\n",
    "    criterion (nn.Module): The loss function used to compute loss.\n",
    "\n",
    "Returns:\n",
    "    tuple: A tuple containing:\n",
    "        - float: The computed validation loss.\n",
    "        - float: The computed validation accuracy.\n",
    "        - float: The computed precision.\n",
    "        - float: The computed recall.\n",
    "        - float: The computed F1 score.\n",
    "\"\"\"\n",
    "def validate(model, valloader, criterion):\n",
    "    # Set the model to evaluation mode, disabling dropout and batch normalization\n",
    "    model.eval()\n",
    "\n",
    "    val_running_loss_combined = 0.0  # Initialize the total loss for the validation set\n",
    "    val_running_corrects_combined = 0  # Initialize the count of correct predictions\n",
    "\n",
    "    all_labels = []  # List to store all true labels for metrics computation\n",
    "    all_preds_combined = []  # List to store all predictions for metrics computation\n",
    "\n",
    "    # Disable gradient calculation for validation (saves memory and computation)\n",
    "    with torch.no_grad():\n",
    "        for batch in valloader:\n",
    "            # Move data to the appropriate device\n",
    "            images = batch['image'].to(device)\n",
    "            input_ids = batch['input_ids'].to(device)\n",
    "            attention_mask = batch['attention_mask'].to(device)\n",
    "            labels = batch['label'].to(device)\n",
    "\n",
    "            # Forward pass: compute model outputs for the current batch\n",
    "            combined_outputs = model(\n",
    "                images, input_ids, attention_mask\n",
    "            )\n",
    "\n",
    "            # Compute the loss between predicted outputs and true labels\n",
    "            loss_combined = criterion(combined_outputs, labels)\n",
    "\n",
    "            # Update the running loss for the validation set\n",
    "            val_running_loss_combined += loss_combined.item() * images.size(0)\n",
    "\n",
    "            # Get predictions by finding the class with the maximum score\n",
    "            _, preds_combined = torch.max(combined_outputs, 1)\n",
    "\n",
    "            # Update the count of correct predictions\n",
    "            val_running_corrects_combined += torch.sum(\n",
    "                preds_combined == labels.data\n",
    "            )\n",
    "\n",
    "            # Collect all labels and predictions for metric computations\n",
    "            all_labels.extend(labels.cpu().numpy())\n",
    "            all_preds_combined.extend(preds_combined.cpu().numpy())\n",
    "\n",
    "    # Compute the average validation loss and accuracy\n",
    "    val_loss_combined = val_running_loss_combined / len(valloader.dataset)\n",
    "    val_acc_combined = val_running_corrects_combined.double() / len(valloader.dataset)\n",
    "\n",
    "    # Compute additional metrics such as precision, recall, and F1 score\n",
    "    precision, recall, f1 = compute_metrics(all_labels, all_preds_combined)\n",
    "\n",
    "    # Return the computed validation loss, accuracy, and metrics\n",
    "    return val_loss_combined, val_acc_combined, precision, recall, f1"
   ]
  },
  {
   "cell_type": "code",
   "execution_count": 16,
   "metadata": {
    "id": "BpYyfU3l1S67"
   },
   "outputs": [],
   "source": [
    "\"\"\"\n",
    "**train_validate_model**\n",
    "\n",
    "This function handles the entire training process for a given model, including training and\n",
    "validation phases. It tracks the loss and accuracy metrics for both phases, implements early stopping\n",
    "based on validation loss, and saves the best-performing model. A learning rate scheduler is also used\n",
    "to adjust the learning rate during training.\n",
    "\n",
    "Args:\n",
    "    model (nn.Module): The neural network model to be trained and validated.\n",
    "    trainloader (DataLoader): The DataLoader for the training dataset.\n",
    "    valloader (DataLoader): The DataLoader for the validation dataset.\n",
    "    criterion (nn.Module): The loss function used to compute loss.\n",
    "    trainable_params (iterable): An iterable of parameters to optimize.\n",
    "    best_val_loss (float): The best validation loss encountered during training.\n",
    "    num_epochs (int): The total number of epochs to train the model.\n",
    "\n",
    "Returns:\n",
    "    float: The best validation loss achieved during training.\n",
    "\"\"\"\n",
    "def train_validate_model(model, trainloader, valloader, criterion, trainable_params, best_val_loss, num_epochs):\n",
    "    # Initialize the Adam optimizer with a learning rate and weight decay for regularization\n",
    "    optimizer = optim.Adam(trainable_params, lr=LEARNING_RATE, weight_decay=1e-4)\n",
    "\n",
    "    # Parameters for early stopping to prevent overfitting.=\n",
    "    early_stopping_patience = 4  # Number of epochs to wait before stopping if no improvement\n",
    "    epochs_no_improve = 0  # Counter for epochs without improvement in validation loss\n",
    "\n",
    "    # Lists to store training and validation metrics for plotting later\n",
    "    train_losses = []\n",
    "    train_accuracies = []\n",
    "    val_losses = []\n",
    "    val_accuracies = []\n",
    "    precisions = []\n",
    "    recalls = []\n",
    "    f1_scores = []\n",
    "\n",
    "    # Learning rate scheduler to reduce the learning rate after a certain number of epochs\n",
    "    scheduler = optim.lr_scheduler.StepLR(optimizer, step_size=3, gamma=0.1)\n",
    "\n",
    "    # Loop through the specified number of epochs for training and validation\n",
    "    for epoch in range(num_epochs):\n",
    "        print(f'Epoch {epoch + 1}/{num_epochs}')\n",
    "        print('-' * 10)\n",
    "\n",
    "        # Training phase: call the training function for one epoch\n",
    "        epoch_loss_combined, epoch_acc_combined = train_one_epoch(\n",
    "            model, trainloader, criterion, optimizer\n",
    "        )\n",
    "\n",
    "        # Append training metrics to the respective lists\n",
    "        train_losses.append(epoch_loss_combined)\n",
    "        train_accuracies.append(epoch_acc_combined)\n",
    "\n",
    "        print(f'Training Combined Loss: {epoch_loss_combined:.4f} '\n",
    "                f'Acc: {epoch_acc_combined:.4f}')\n",
    "\n",
    "        # Validation phase: evaluate the model on the validation set\n",
    "        val_loss_combined, val_acc_combined, precision, recall, f1 = validate(\n",
    "            model, valloader, criterion\n",
    "        )\n",
    "\n",
    "        # Append validation metrics to the respective lists\n",
    "        val_losses.append(val_loss_combined)\n",
    "        val_accuracies.append(val_acc_combined)\n",
    "        precisions.append(precision)\n",
    "        recalls.append(recall)\n",
    "        f1_scores.append(f1)\n",
    "\n",
    "        print(f'Validation Combined Loss: {val_loss_combined:.4f} '\n",
    "                f'Acc: {val_acc_combined:.4f}')\n",
    "        print(f'Validation Precision: {precision:.4f}, '\n",
    "                f'Recall: {recall:.4f}, F1-score: {f1:.4f}')\n",
    "\n",
    "        # Early stopping: check if the validation loss has improved\n",
    "        if val_loss_combined < best_val_loss:\n",
    "            best_val_loss = val_loss_combined  # Update the best validation loss\n",
    "            epochs_no_improve = 0  # Reset the counter\n",
    "\n",
    "            # Save the model state if a new best validation loss is found\n",
    "            print(f\"New best model found! Saving model with validation \"\n",
    "                    f\"loss: {best_val_loss:.4f}\")\n",
    "            torch.save(model.state_dict(), 'best_model.pth')\n",
    "        else:\n",
    "            epochs_no_improve += 1  # Increment the counter for epochs without improvement\n",
    "            if epochs_no_improve >= early_stopping_patience:  # Check if patience limit is reached\n",
    "                print(f'Early stopping at epoch {epoch + 1} due to {epochs_no_improve} epochs without improvement')  # Print a message indicating early stopping\n",
    "                break  # Exit the training loop\n",
    "\n",
    "        # Step the learning rate scheduler to adjust the learning rate\n",
    "        scheduler.step()\n",
    "\n",
    "    # Plotting results: save the metrics to a file for analysis\n",
    "    plot_training_results(train_losses, val_losses, train_accuracies, val_accuracies, precisions, recalls, f1_scores)\n",
    "\n",
    "    return best_val_loss  # Return the best validation loss achieved during training"
   ]
  },
  {
   "cell_type": "code",
   "execution_count": null,
   "metadata": {
    "id": "ufOyW7RNhV6I"
   },
   "outputs": [],
   "source": [
    "\"\"\"\n",
    "**test**\n",
    "\n",
    "This function evaluates the model's performance on the test set by calculating the test accuracy\n",
    "and additional metrics such as precision, recall, and F1 score. It also identifies and logs misclassified\n",
    "examples, allowing for further analysis of the model's performance.\n",
    "\n",
    "Args:\n",
    "    model (nn.Module): The neural network model to test.\n",
    "    testloader (DataLoader): The DataLoader for the test dataset.\n",
    "\n",
    "Returns:\n",
    "    tuple: A tuple containing:\n",
    "        - float: The computed test accuracy.\n",
    "        - float: The computed precision.\n",
    "        - float: The computed recall.\n",
    "        - float: The computed F1 score.\n",
    "        - ndarray: The confusion matrix.\n",
    "\"\"\"\n",
    "def test(model, testloader):\n",
    "     # Set the model to evaluation mode, disabling dropout and batch normalization\n",
    "    model.eval()\n",
    "\n",
    "    test_running_corrects_combined = 0  # Initialize the count of correct predictions\n",
    "\n",
    "    all_labels = []  # List to store all true labels for metrics computation\n",
    "    all_preds_combined = []  # List to store all predictions for metrics computation\n",
    "\n",
    "    misclassified_examples = []  # List to store misclassified examples for analysis\n",
    "\n",
    "    # Instantiate the UnNormalize transform\n",
    "    unnormalize = UnNormalize(mean=[0.485, 0.456, 0.406],\n",
    "                              std=[0.229, 0.224, 0.225])\n",
    "\n",
    "    # Disable gradient calculation for testing (saves memory and computation)\n",
    "    with torch.no_grad():\n",
    "        for batch in testloader:\n",
    "            # Move data to the appropriate device\n",
    "            images = batch['image'].to(device)\n",
    "            input_ids = batch['input_ids'].to(device)\n",
    "            attention_mask = batch['attention_mask'].to(device)\n",
    "            labels = batch['label'].to(device)\n",
    "            text_desc = batch['text_description']\n",
    "\n",
    "            # Forward pass: compute model outputs for the current batch\n",
    "            combined_outputs = model(\n",
    "                images, input_ids, attention_mask\n",
    "            )\n",
    "\n",
    "            # Get predictions by finding the class with the maximum score\n",
    "            _, preds_combined = torch.max(combined_outputs, 1)\n",
    "\n",
    "            # Update the count of correct predictions\n",
    "            test_running_corrects_combined += torch.sum(\n",
    "                preds_combined == labels.data\n",
    "            )\n",
    "\n",
    "            # Collect all labels and predictions for metric computations\n",
    "            all_labels.extend(labels.cpu().numpy())\n",
    "            all_preds_combined.extend(preds_combined.cpu().numpy())\n",
    "\n",
    "            # Identify misclassified examples for further analysis\n",
    "            for img, pred_label, true_label, text in zip(images, preds_combined, labels, text_desc):\n",
    "                if pred_label != true_label and len(misclassified_examples) < 10:\n",
    "                    # Unnormalize the image for visualization\n",
    "                    img_normal = unnormalize(img)\n",
    "                    # Convert the image tensor to a NumPy array\n",
    "                    img_pil = transforms.ToPILImage()(img_normal)\n",
    "                    # Append the image, predicted label, true label, and text description to the list\n",
    "                    misclassified_examples.append({\n",
    "                        \"Image\": img_pil,\n",
    "                        \"Predicted Label\": idx_to_class[pred_label.item()],\n",
    "                        \"True Label\": idx_to_class[true_label.item()],\n",
    "                        \"Text Description\": text\n",
    "                    })\n",
    "            \n",
    "            \n",
    "\n",
    "    # Compute test accuracy\n",
    "    test_acc_combined = test_running_corrects_combined.double() / len(testloader.dataset)\n",
    "\n",
    "    # Compute additional metrics like precision, recall, and F1 score\n",
    "    precision, recall, f1 = compute_metrics(all_labels, all_preds_combined)\n",
    "\n",
    "    # Compute confusion matrix for detailed error analysis\n",
    "    conf_mat = confusion_matrix(all_labels, all_preds_combined)\n",
    "\n",
    "    # Return test accuracy and computed metrics\n",
    "    return test_acc_combined, precision, recall, f1, conf_mat, misclassified_examples"
   ]
  },
  {
   "cell_type": "markdown",
   "metadata": {
    "id": "Bs_vWFoU3hS8"
   },
   "source": [
    "# Main Functions"
   ]
  },
  {
   "cell_type": "markdown",
   "metadata": {
    "id": "DvBtpHsRiCHe"
   },
   "source": [
    "## Pre-process data, define criterion, and initialize the multimodal model\n"
   ]
  },
  {
   "cell_type": "code",
   "execution_count": null,
   "metadata": {
    "colab": {
     "base_uri": "https://localhost:8080/",
     "height": 211,
     "referenced_widgets": [
      "dffec45915a64fc5b0400e5de7fca6d5",
      "7134f6fb9cef44fb9d48a53ebca03f84",
      "b9394d49be914364bca6718108e06f5d",
      "e7f6285b00ff4eb1a3eee8027994dae2",
      "27e62970154b48899c9298a102654407"
     ]
    },
    "id": "wv0wqTlQhYqY",
    "outputId": "60ea183c-360b-488b-e6ec-f867bded89cc"
   },
   "outputs": [],
   "source": [
    "# Preprocess data and create data loaders\n",
    "trainset_df, valset_df, testset_df, trainloader, valloader, testloader, class_weights_tensor = data_preprocessing()\n"
   ]
  },
  {
   "cell_type": "markdown",
   "metadata": {},
   "source": [
    "### Take to look at the distribution of the datasets"
   ]
  },
  {
   "cell_type": "code",
   "execution_count": null,
   "metadata": {},
   "outputs": [],
   "source": [
    "# Train Set\n",
    "class_counts = trainset_df['label'].value_counts() \n",
    "class_counts.plot(kind='bar')\n",
    "plt.title('Train Set Class Distribution')\n",
    "plt.xlabel('Class')\n",
    "plt.ylabel('Number of Images')\n",
    "plt.show()"
   ]
  },
  {
   "cell_type": "code",
   "execution_count": null,
   "metadata": {},
   "outputs": [],
   "source": [
    "# Validation Set\n",
    "class_counts = valset_df['label'].value_counts()\n",
    "class_counts.plot(kind='bar')\n",
    "plt.title('Validation Set Class Distribution')\n",
    "plt.xlabel('Class')\n",
    "plt.ylabel('Number of Images')\n",
    "plt.show()"
   ]
  },
  {
   "cell_type": "code",
   "execution_count": null,
   "metadata": {},
   "outputs": [],
   "source": [
    "# Test Set\n",
    "class_counts = testset_df['label'].value_counts()\n",
    "class_counts.plot(kind='bar')\n",
    "plt.title('Test Set Class Distribution')\n",
    "plt.xlabel('Class')\n",
    "plt.ylabel('Number of Images')\n",
    "plt.show()"
   ]
  },
  {
   "cell_type": "code",
   "execution_count": null,
   "metadata": {},
   "outputs": [],
   "source": [
    "\n",
    "# Define the loss function with class weights\n",
    "criterion = nn.CrossEntropyLoss(weight=class_weights_tensor)\n",
    "\n",
    "# Initialize the model\n",
    "model = GarbageClassifier(num_classes=len(class_names), dropout_rate=DROPOUT_RATE).to(device)"
   ]
  },
  {
   "cell_type": "markdown",
   "metadata": {
    "id": "K1rUkMbB237k"
   },
   "source": [
    "## Create the trainable parameters"
   ]
  },
  {
   "cell_type": "code",
   "execution_count": 22,
   "metadata": {
    "id": "t8K1CwAR27SF"
   },
   "outputs": [],
   "source": [
    "# Freeze layers of the image model and unfreeze specific layers for training\n",
    "for param in model.image_model.model.parameters():\n",
    "    param.requires_grad = False  # Freeze all layers initially\n",
    "for param in model.image_model.model.layer4.parameters():\n",
    "    param.requires_grad = True  # Unfreeze layer4 for training\n",
    "for param in model.image_model.feature_extractor.parameters():\n",
    "    param.requires_grad = True  # Unfreeze feature extractor for training\n",
    "\n",
    "# Unfreeze layers of the text model for training\n",
    "for param in model.text_model.bert.parameters():\n",
    "    param.requires_grad = True\n",
    "for param in model.text_model.feature_extractor.parameters():\n",
    "    param.requires_grad = True\n",
    "\n",
    "# Collect trainable parameters with specific learning rates\n",
    "trainable_params = [\n",
    "    {'params': model.image_model.model.layer4.parameters(), 'lr': LEARNING_RATE * 0.1},\n",
    "    {'params': model.image_model.feature_extractor.parameters(), 'lr': LEARNING_RATE},\n",
    "    {'params': model.text_model.bert.parameters(), 'lr': LEARNING_RATE * 0.1},\n",
    "    {'params': model.text_model.feature_extractor.parameters(), 'lr': LEARNING_RATE},\n",
    "    {'params': model.fusion.parameters(), 'lr': LEARNING_RATE},\n",
    "]"
   ]
  },
  {
   "cell_type": "markdown",
   "metadata": {
    "id": "Jwnf-JK53CSi"
   },
   "source": [
    "## Iterate through the first phase of training"
   ]
  },
  {
   "cell_type": "markdown",
   "metadata": {
    "id": "RUKz_UhNyTSD"
   },
   "source": [
    "## Training Phases\n",
    "\n",
    "### First Training Phase\n",
    "In this phase:\n",
    "- Only specific layers of the image model are unfrozen.\n",
    "- Both text and image branches undergo training, optimizing model weights gradually.\n",
    "- Early stopping is employed to avoid overfitting.\n",
    "\n",
    "### Fine-tuning Phase\n",
    "- Additional layers in the image model are unfrozen for fine-tuning.\n",
    "- A lower learning rate is used for stability.\n",
    "- Fine-tuning refines the model by focusing on nuanced patterns within the data.\n",
    "\n",
    "By combining training and fine-tuning, we enhance model performance while preventing overfitting.\n"
   ]
  },
  {
   "cell_type": "code",
   "execution_count": 23,
   "metadata": {
    "colab": {
     "base_uri": "https://localhost:8080/",
     "height": 1000
    },
    "id": "vAU9dkuz3Kdb",
    "outputId": "7d1af48f-c65b-423c-bd0b-6ed39cf8badf"
   },
   "outputs": [
    {
     "name": "stdout",
     "output_type": "stream",
     "text": [
      "Epoch 1/20\n",
      "----------\n",
      "Training Combined Loss: 0.5934 Acc: 0.7675\n",
      "Validation Combined Loss: 0.3882 Acc: 0.8612\n",
      "Validation Precision: 0.8676, Recall: 0.8612, F1-score: 0.8622\n",
      "New best model found! Saving model with validation loss: 0.3882\n",
      "Epoch 2/20\n",
      "----------\n",
      "Training Combined Loss: 0.3270 Acc: 0.8738\n",
      "Validation Combined Loss: 0.3227 Acc: 0.8856\n",
      "Validation Precision: 0.8893, Recall: 0.8856, F1-score: 0.8864\n",
      "New best model found! Saving model with validation loss: 0.3227\n",
      "Epoch 3/20\n",
      "----------\n",
      "Training Combined Loss: 0.2548 Acc: 0.9049\n",
      "Validation Combined Loss: 0.3393 Acc: 0.8845\n",
      "Validation Precision: 0.8934, Recall: 0.8845, F1-score: 0.8859\n",
      "Epoch 4/20\n",
      "----------\n",
      "Training Combined Loss: 0.2038 Acc: 0.9217\n",
      "Validation Combined Loss: 0.3156 Acc: 0.8895\n",
      "Validation Precision: 0.8939, Recall: 0.8895, F1-score: 0.8903\n",
      "New best model found! Saving model with validation loss: 0.3156\n",
      "Epoch 5/20\n",
      "----------\n",
      "Training Combined Loss: 0.2039 Acc: 0.9242\n",
      "Validation Combined Loss: 0.3055 Acc: 0.8901\n",
      "Validation Precision: 0.8941, Recall: 0.8901, F1-score: 0.8908\n",
      "New best model found! Saving model with validation loss: 0.3055\n",
      "Epoch 6/20\n",
      "----------\n",
      "Training Combined Loss: 0.1915 Acc: 0.9273\n",
      "Validation Combined Loss: 0.3143 Acc: 0.8912\n",
      "Validation Precision: 0.8959, Recall: 0.8912, F1-score: 0.8921\n",
      "Epoch 7/20\n",
      "----------\n",
      "Training Combined Loss: 0.1871 Acc: 0.9308\n",
      "Validation Combined Loss: 0.3193 Acc: 0.8873\n",
      "Validation Precision: 0.8907, Recall: 0.8873, F1-score: 0.8878\n",
      "Epoch 8/20\n",
      "----------\n",
      "Training Combined Loss: 0.1837 Acc: 0.9286\n",
      "Validation Combined Loss: 0.3127 Acc: 0.8917\n",
      "Validation Precision: 0.8953, Recall: 0.8917, F1-score: 0.8924\n",
      "Epoch 9/20\n",
      "----------\n",
      "Training Combined Loss: 0.1870 Acc: 0.9311\n",
      "Validation Combined Loss: 0.3020 Acc: 0.8934\n",
      "Validation Precision: 0.8969, Recall: 0.8934, F1-score: 0.8942\n",
      "New best model found! Saving model with validation loss: 0.3020\n",
      "Epoch 10/20\n",
      "----------\n",
      "Training Combined Loss: 0.1835 Acc: 0.9291\n",
      "Validation Combined Loss: 0.3059 Acc: 0.8939\n",
      "Validation Precision: 0.8981, Recall: 0.8939, F1-score: 0.8947\n",
      "Epoch 11/20\n",
      "----------\n",
      "Training Combined Loss: 0.1822 Acc: 0.9304\n",
      "Validation Combined Loss: 0.3050 Acc: 0.8945\n",
      "Validation Precision: 0.8968, Recall: 0.8945, F1-score: 0.8950\n",
      "Epoch 12/20\n",
      "----------\n",
      "Training Combined Loss: 0.1826 Acc: 0.9291\n",
      "Validation Combined Loss: 0.3130 Acc: 0.8856\n",
      "Validation Precision: 0.8899, Recall: 0.8856, F1-score: 0.8863\n",
      "Epoch 13/20\n",
      "----------\n",
      "Training Combined Loss: 0.1870 Acc: 0.9298\n",
      "Validation Combined Loss: 0.3056 Acc: 0.8951\n",
      "Validation Precision: 0.8989, Recall: 0.8951, F1-score: 0.8957\n",
      "Early stopping at epoch 13 due to 4 epochs without improvement\n"
     ]
    },
    {
     "data": {
      "image/png": "[encoded data removed]",
      "text/plain": [
       "<Figure size 1200x800 with 4 Axes>"
      ]
     },
     "metadata": {},
     "output_type": "display_data"
    },
    {
     "name": "stdout",
     "output_type": "stream",
     "text": [
      "Training completed in 5079.19 seconds.\n"
     ]
    }
   ],
   "source": [
    "# Initialize best validation loss\n",
    "best_val_loss = float('inf')\n",
    "\n",
    "# Start timing\n",
    "start_time = time.time()\n",
    "\n",
    "# First phase of training\n",
    "best_val_loss = train_validate_model(model, trainloader, valloader, criterion, trainable_params, best_val_loss, 20)\n",
    "\n",
    "# End timing\n",
    "end_time = time.time()\n",
    "\n",
    "# Calculate the elapsed time\n",
    "elapsed_time = end_time - start_time\n",
    "\n",
    "# Log the elapsed time\n",
    "print(f\"Training completed in {elapsed_time:.2f} seconds.\")"
   ]
  },
  {
   "cell_type": "markdown",
   "metadata": {
    "id": "RiFYV2wP3S9Z"
   },
   "source": [
    "## Load best model for fine-tuning"
   ]
  },
  {
   "cell_type": "code",
   "execution_count": 24,
   "metadata": {
    "colab": {
     "base_uri": "https://localhost:8080/"
    },
    "id": "9YVFSvCc3V-P",
    "outputId": "9f6d6c65-fc2b-4444-9733-016d7df12601"
   },
   "outputs": [
    {
     "data": {
      "text/plain": [
       "<All keys matched successfully>"
      ]
     },
     "execution_count": 24,
     "metadata": {},
     "output_type": "execute_result"
    }
   ],
   "source": [
    "# Load the best model after first phase of training\n",
    "model.load_state_dict(torch.load('best_model.pth', weights_only=True))"
   ]
  },
  {
   "cell_type": "markdown",
   "metadata": {
    "id": "Ox0N4se53bWW"
   },
   "source": [
    "## Create the trainable parameters for fine-tuning"
   ]
  },
  {
   "cell_type": "code",
   "execution_count": 25,
   "metadata": {
    "id": "bRMU9mfh3tUq"
   },
   "outputs": [],
   "source": [
    "# Freeze and unfreeze layers for further training\n",
    "for param in model.image_model.model.parameters():\n",
    "    param.requires_grad = False  # Freeze all layers again\n",
    "for param in model.image_model.model.layer2.parameters():\n",
    "    param.requires_grad = True  # Unfreeze layer2 for training\n",
    "for param in model.image_model.model.layer3.parameters():\n",
    "    param.requires_grad = True  # Unfreeze layer3 for training\n",
    "for param in model.image_model.model.layer4.parameters():\n",
    "    param.requires_grad = True  # Keep layer4 unfrozen\n",
    "for param in model.image_model.feature_extractor.parameters():\n",
    "    param.requires_grad = True  # Keep feature extractor unfrozen\n",
    "\n",
    "# Unfreeze layers of the text model again for training\n",
    "for param in model.text_model.bert.parameters():\n",
    "    param.requires_grad = True\n",
    "for param in model.text_model.feature_extractor.parameters():\n",
    "    param.requires_grad = True\n",
    "\n",
    "# Collect trainable parameters for the second phase with adjusted learning rates\n",
    "trainable_params = [\n",
    "    {'params': model.image_model.model.layer2.parameters(), 'lr': LEARNING_RATE * 0.01},\n",
    "    {'params': model.image_model.model.layer3.parameters(), 'lr': LEARNING_RATE * 0.01},\n",
    "    {'params': model.image_model.model.layer4.parameters(), 'lr': LEARNING_RATE * 0.01},\n",
    "    {'params': model.image_model.feature_extractor.parameters(), 'lr': LEARNING_RATE * 0.1},\n",
    "    {'params': model.text_model.bert.parameters(), 'lr': LEARNING_RATE * 0.01},\n",
    "    {'params': model.text_model.feature_extractor.parameters(), 'lr': LEARNING_RATE * 0.1},\n",
    "    {'params': model.fusion.parameters(), 'lr': LEARNING_RATE},\n",
    "]"
   ]
  },
  {
   "cell_type": "markdown",
   "metadata": {
    "id": "eMebbwmh3w7V"
   },
   "source": [
    "## Iterate through the second phase of training"
   ]
  },
  {
   "cell_type": "code",
   "execution_count": 27,
   "metadata": {
    "colab": {
     "base_uri": "https://localhost:8080/",
     "height": 1000
    },
    "id": "VqJsBDXq324S",
    "outputId": "c8dc6578-cee9-4916-cf41-90aab36cf5ab"
   },
   "outputs": [
    {
     "name": "stdout",
     "output_type": "stream",
     "text": [
      "Epoch 1/10\n",
      "----------\n",
      "Training Combined Loss: 0.1836 Acc: 0.9306\n",
      "Validation Combined Loss: 0.3088 Acc: 0.8951\n",
      "Validation Precision: 0.8986, Recall: 0.8951, F1-score: 0.8956\n",
      "Epoch 2/10\n",
      "----------\n",
      "Training Combined Loss: 0.1710 Acc: 0.9367\n",
      "Validation Combined Loss: 0.3001 Acc: 0.9023\n",
      "Validation Precision: 0.9037, Recall: 0.9023, F1-score: 0.9026\n",
      "New best model found! Saving model with validation loss: 0.3001\n",
      "Epoch 3/10\n",
      "----------\n",
      "Training Combined Loss: 0.1676 Acc: 0.9365\n",
      "Validation Combined Loss: 0.3109 Acc: 0.8984\n",
      "Validation Precision: 0.9010, Recall: 0.8984, F1-score: 0.8989\n",
      "Epoch 4/10\n",
      "----------\n",
      "Training Combined Loss: 0.1577 Acc: 0.9371\n",
      "Validation Combined Loss: 0.3087 Acc: 0.8956\n",
      "Validation Precision: 0.8986, Recall: 0.8956, F1-score: 0.8960\n",
      "Epoch 5/10\n",
      "----------\n",
      "Training Combined Loss: 0.1561 Acc: 0.9383\n",
      "Validation Combined Loss: 0.3123 Acc: 0.8956\n",
      "Validation Precision: 0.8980, Recall: 0.8956, F1-score: 0.8960\n",
      "Epoch 6/10\n",
      "----------\n",
      "Training Combined Loss: 0.1530 Acc: 0.9409\n",
      "Validation Combined Loss: 0.3066 Acc: 0.8967\n",
      "Validation Precision: 0.8998, Recall: 0.8967, F1-score: 0.8972\n",
      "Early stopping at epoch 6 due to 4 epochs without improvement\n"
     ]
    },
    {
     "data": {
      "image/png": "[encoded data removed]",
      "text/plain": [
       "<Figure size 1200x800 with 4 Axes>"
      ]
     },
     "metadata": {},
     "output_type": "display_data"
    },
    {
     "name": "stdout",
     "output_type": "stream",
     "text": [
      "Training completed in 1763.54 seconds.\n"
     ]
    }
   ],
   "source": [
    "# Start timing\n",
    "start_time = time.time()\n",
    "\n",
    "# Second phase of training\n",
    "train_validate_model(model, trainloader, valloader, criterion, trainable_params, best_val_loss, 10)\n",
    "\n",
    "# End timing\n",
    "end_time = time.time()\n",
    "\n",
    "# Calculate the elapsed time\n",
    "elapsed_time = end_time - start_time\n",
    "\n",
    "# Log the elapsed time\n",
    "print(f\"Training completed in {elapsed_time:.2f} seconds.\")"
   ]
  },
  {
   "cell_type": "markdown",
   "metadata": {
    "id": "xfsaLZmO362V"
   },
   "source": [
    "## Load best model for testing"
   ]
  },
  {
   "cell_type": "code",
   "execution_count": 28,
   "metadata": {
    "colab": {
     "base_uri": "https://localhost:8080/"
    },
    "id": "Z5xGnYKD3-bQ",
    "outputId": "724ceb4e-50ba-4bf1-d518-47328c2bdbb4"
   },
   "outputs": [
    {
     "data": {
      "text/plain": [
       "<All keys matched successfully>"
      ]
     },
     "execution_count": 28,
     "metadata": {},
     "output_type": "execute_result"
    }
   ],
   "source": [
    "# Load the best model after the second phase of training\n",
    "model.load_state_dict(torch.load('best_model.pth', weights_only=True))"
   ]
  },
  {
   "cell_type": "markdown",
   "metadata": {
    "id": "CePs4BVu4Bg2"
   },
   "source": [
    "## Test the model"
   ]
  },
  {
   "cell_type": "markdown",
   "metadata": {
    "id": "eRwgU0ujyTSE"
   },
   "source": [
    "## Model Testing\n",
    "\n",
    "After training, the best model is tested on the test set:\n",
    "- Accuracy, precision, recall, and F1-score are computed.\n",
    "- A confusion matrix is generated for detailed performance analysis.\n",
    "\n",
    "Testing allows us to understand the model's generalization ability and its effectiveness in classifying unseen garbage data.\n"
   ]
  },
  {
   "cell_type": "code",
   "execution_count": null,
   "metadata": {
    "colab": {
     "base_uri": "https://localhost:8080/"
    },
    "id": "kNw_I5A74Dn5",
    "outputId": "46cc8186-2c41-47b9-b5d8-0d31379a7d39"
   },
   "outputs": [
    {
     "name": "stdout",
     "output_type": "stream",
     "text": [
      "Test Combined Accuracy: 0.8554\n",
      "Test Precision: 0.8539, Recall: 0.8554, F1-score: 0.8539\n",
      "Testing completed in 84.97 seconds.\n"
     ]
    }
   ],
   "source": [
    "# Start timing\n",
    "start_time = time.time()\n",
    "\n",
    "# Evaluate the model on the test set\n",
    "test_acc_combined, precision, recall, f1, conf_mat, misclassified_examples = test(model, testloader)\n",
    "\n",
    "# Print test results\n",
    "print(f'Test Combined Accuracy: {test_acc_combined:.4f}')\n",
    "print(f'Test Precision: {precision:.4f}, Recall: {recall:.4f}, F1-score: {f1:.4f}')\n",
    "\n",
    "# End timing\n",
    "end_time = time.time()\n",
    "\n",
    "# Calculate the elapsed time\n",
    "elapsed_time = end_time - start_time\n",
    "\n",
    "# Log the elapsed time\n",
    "print(f\"Testing completed in {elapsed_time:.2f} seconds.\")"
   ]
  },
  {
   "cell_type": "markdown",
   "metadata": {
    "id": "yHAb4TAi4VCN"
   },
   "source": [
    "## Results Visualization\n",
    "\n",
    "### Confusion Matrix\n",
    "The confusion matrix provides insights into:\n",
    "- Model accuracy per class.\n",
    "- Classes where misclassifications are common.\n",
    "\n",
    "By visualizing the confusion matrix, we can pinpoint areas for potential improvement in the model.\n"
   ]
  },
  {
   "cell_type": "code",
   "execution_count": 32,
   "metadata": {
    "colab": {
     "base_uri": "https://localhost:8080/",
     "height": 564
    },
    "id": "fP7kHdLV4Xb8",
    "outputId": "364a0a8a-81cf-40de-e91b-5430a6f491c7"
   },
   "outputs": [
    {
     "data": {
      "image/png": "[encoded data removed]",
      "text/plain": [
       "<Figure size 600x600 with 2 Axes>"
      ]
     },
     "metadata": {},
     "output_type": "display_data"
    }
   ],
   "source": [
    "# Plot confusion matrix\n",
    "plot_confusion_matrix(conf_mat)"
   ]
  },
  {
   "cell_type": "code",
   "execution_count": null,
   "metadata": {},
   "outputs": [],
   "source": [
    "# Create a DataFrame from the misclassified examples\n",
    "df_misclassified = pd.DataFrame(misclassified_examples)\n",
    "\n",
    "# Display the misclassified examples\n",
    "df_misclassified"
   ]
  }
 ],
 "metadata": {
  "accelerator": "GPU",
  "colab": {
   "gpuType": "A100",
   "machine_shape": "hm",
   "provenance": []
  },
  "kernelspec": {
   "display_name": "Python 3",
   "name": "python3"
  },
  "language_info": {
   "name": "python"
  },
  "widgets": {
   "application/vnd.jupyter.widget-state+json": {
    "27e62970154b48899c9298a102654407": {
     "model_module": "@jupyter-widgets/controls",
     "model_module_version": "1.5.0",
     "model_name": "HBoxModel",
     "state": {
      "_dom_classes": [],
      "_model_module": "@jupyter-widgets/controls",
      "_model_module_version": "1.5.0",
      "_model_name": "HBoxModel",
      "_view_count": null,
      "_view_module": "@jupyter-widgets/controls",
      "_view_module_version": "1.5.0",
      "_view_name": "HBoxView",
      "box_style": "",
      "children": [
       "IPY_MODEL_62786f8e70a948c1920f6af27ec1ef00",
       "IPY_MODEL_935de7a9104a480da71aa452c6e1a997",
       "IPY_MODEL_7fb4c701a99a44bb9d132bdaca4e4089"
      ],
      "layout": "IPY_MODEL_6753bcce983340e4aafd166261e8e864"
     }
    },
    "7134f6fb9cef44fb9d48a53ebca03f84": {
     "model_module": "@jupyter-widgets/controls",
     "model_module_version": "1.5.0",
     "model_name": "HBoxModel",
     "state": {
      "_dom_classes": [],
      "_model_module": "@jupyter-widgets/controls",
      "_model_module_version": "1.5.0",
      "_model_name": "HBoxModel",
      "_view_count": null,
      "_view_module": "@jupyter-widgets/controls",
      "_view_module_version": "1.5.0",
      "_view_name": "HBoxView",
      "box_style": "",
      "children": [
       "IPY_MODEL_28d37a9a422c437093e992e754f5ae7e",
       "IPY_MODEL_77647c97d4f34c33912e29e5c37c6f19",
       "IPY_MODEL_bcf255f7bccb48c6aec402b73883d18f"
      ],
      "layout": "IPY_MODEL_74c560e5411b477d88daf8ffb15880d4"
     }
    },
    "b9394d49be914364bca6718108e06f5d": {
     "model_module": "@jupyter-widgets/controls",
     "model_module_version": "1.5.0",
     "model_name": "HBoxModel",
     "state": {
      "_dom_classes": [],
      "_model_module": "@jupyter-widgets/controls",
      "_model_module_version": "1.5.0",
      "_model_name": "HBoxModel",
      "_view_count": null,
      "_view_module": "@jupyter-widgets/controls",
      "_view_module_version": "1.5.0",
      "_view_name": "HBoxView",
      "box_style": "",
      "children": [
       "IPY_MODEL_f17ce0ab0d2449a8817317cb06332f61",
       "IPY_MODEL_5f0db0d034074f9db98a5fc6265388cb",
       "IPY_MODEL_355749be0bdc46269edd9b40ff9b11a4"
      ],
      "layout": "IPY_MODEL_40f68dba6085473aabf10a24c485539f"
     }
    },
    "dffec45915a64fc5b0400e5de7fca6d5": {
     "model_module": "@jupyter-widgets/controls",
     "model_module_version": "1.5.0",
     "model_name": "HBoxModel",
     "state": {
      "_dom_classes": [],
      "_model_module": "@jupyter-widgets/controls",
      "_model_module_version": "1.5.0",
      "_model_name": "HBoxModel",
      "_view_count": null,
      "_view_module": "@jupyter-widgets/controls",
      "_view_module_version": "1.5.0",
      "_view_name": "HBoxView",
      "box_style": "",
      "children": [
       "IPY_MODEL_4291b85ceb734092a2378cbb81a37dfb",
       "IPY_MODEL_c7ed03c1484b4f29ba3add8c8fcba29a",
       "IPY_MODEL_5e7d45bf7a6e480b8ea6cbb6eb7aaa28"
      ],
      "layout": "IPY_MODEL_d684ee58678e4ab1a7b2c1116d5ea830"
     }
    },
    "e7f6285b00ff4eb1a3eee8027994dae2": {
     "model_module": "@jupyter-widgets/controls",
     "model_module_version": "1.5.0",
     "model_name": "HBoxModel",
     "state": {
      "_dom_classes": [],
      "_model_module": "@jupyter-widgets/controls",
      "_model_module_version": "1.5.0",
      "_model_name": "HBoxModel",
      "_view_count": null,
      "_view_module": "@jupyter-widgets/controls",
      "_view_module_version": "1.5.0",
      "_view_name": "HBoxView",
      "box_style": "",
      "children": [
       "IPY_MODEL_d87d756bb70c412aae4ca9c333607211",
       "IPY_MODEL_09db744387104a329a970298e278b94c",
       "IPY_MODEL_299ff2274bb14b99a85cd079993df44a"
      ],
      "layout": "IPY_MODEL_9fbfe0270dc64736838d5883417cd368"
     }
    }
   }
  }
 },
 "nbformat": 4,
 "nbformat_minor": 0
}
